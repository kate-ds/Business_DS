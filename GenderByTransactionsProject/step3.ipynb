{
 "cells": [
  {
   "cell_type": "code",
   "execution_count": 8,
   "metadata": {},
   "outputs": [
    {
     "data": {
      "text/html": [
       "<div>\n",
       "<style scoped>\n",
       "    .dataframe tbody tr th:only-of-type {\n",
       "        vertical-align: middle;\n",
       "    }\n",
       "\n",
       "    .dataframe tbody tr th {\n",
       "        vertical-align: top;\n",
       "    }\n",
       "\n",
       "    .dataframe thead th {\n",
       "        text-align: right;\n",
       "    }\n",
       "</style>\n",
       "<table border=\"1\" class=\"dataframe\">\n",
       "  <thead>\n",
       "    <tr style=\"text-align: right;\">\n",
       "      <th></th>\n",
       "      <th>customer_id</th>\n",
       "      <th>mcc_code</th>\n",
       "      <th>tr_type</th>\n",
       "    </tr>\n",
       "  </thead>\n",
       "  <tbody>\n",
       "    <tr>\n",
       "      <th>0</th>\n",
       "      <td>6815</td>\n",
       "      <td>[4814, 4814, 6010, 6011, 4814, 6011, 6011, 481...</td>\n",
       "      <td>[1030, 1030, 7031, 2010, 1030, 2010, 2010, 103...</td>\n",
       "    </tr>\n",
       "    <tr>\n",
       "      <th>1</th>\n",
       "      <td>22899</td>\n",
       "      <td>[4814, 4814, 6011, 6011, 6010, 6011, 6011, 481...</td>\n",
       "      <td>[1030, 1030, 2010, 2010, 7030, 2010, 7010, 103...</td>\n",
       "    </tr>\n",
       "    <tr>\n",
       "      <th>2</th>\n",
       "      <td>27914</td>\n",
       "      <td>[6011, 6011, 6011, 6011, 6011, 6011, 6011, 481...</td>\n",
       "      <td>[2010, 2010, 2010, 2010, 2010, 2010, 2010, 103...</td>\n",
       "    </tr>\n",
       "    <tr>\n",
       "      <th>3</th>\n",
       "      <td>28753</td>\n",
       "      <td>[8021, 6011, 6011, 6010, 4829, 4814, 6011, 601...</td>\n",
       "      <td>[1010, 2010, 2010, 7030, 2330, 1030, 2010, 201...</td>\n",
       "    </tr>\n",
       "    <tr>\n",
       "      <th>4</th>\n",
       "      <td>31385</td>\n",
       "      <td>[4814, 6011, 4814, 4814, 4814, 6011, 6011, 569...</td>\n",
       "      <td>[1030, 2010, 1030, 1030, 1030, 2010, 2010, 111...</td>\n",
       "    </tr>\n",
       "  </tbody>\n",
       "</table>\n",
       "</div>"
      ],
      "text/plain": [
       "   customer_id                                           mcc_code  \\\n",
       "0         6815  [4814, 4814, 6010, 6011, 4814, 6011, 6011, 481...   \n",
       "1        22899  [4814, 4814, 6011, 6011, 6010, 6011, 6011, 481...   \n",
       "2        27914  [6011, 6011, 6011, 6011, 6011, 6011, 6011, 481...   \n",
       "3        28753  [8021, 6011, 6011, 6010, 4829, 4814, 6011, 601...   \n",
       "4        31385  [4814, 6011, 4814, 4814, 4814, 6011, 6011, 569...   \n",
       "\n",
       "                                             tr_type  \n",
       "0  [1030, 1030, 7031, 2010, 1030, 2010, 2010, 103...  \n",
       "1  [1030, 1030, 2010, 2010, 7030, 2010, 7010, 103...  \n",
       "2  [2010, 2010, 2010, 2010, 2010, 2010, 2010, 103...  \n",
       "3  [1010, 2010, 2010, 7030, 2330, 1030, 2010, 201...  \n",
       "4  [1030, 2010, 1030, 1030, 1030, 2010, 2010, 111...  "
      ]
     },
     "execution_count": 8,
     "metadata": {},
     "output_type": "execute_result"
    }
   ],
   "source": [
    "import pandas as pd\n",
    "from sklearn.metrics import roc_auc_score\n",
    "from urllib import request, parse\n",
    "\n",
    "def load_transactions(transactions_path):\n",
    "    \"\"\"Load and prepare transaction data\"\"\"\n",
    "    transactions = pd.read_csv(transactions_path)\n",
    "    users = transactions.groupby('customer_id')['mcc_code'].apply(list).reset_index()\n",
    "    types = transactions.groupby('customer_id')['tr_type'].apply(list).reset_index()\n",
    "    transactions = pd.merge(users, types,  on='customer_id', how='left')\n",
    "\n",
    "    return transactions\n",
    "        \n",
    "user_transactions = load_transactions('Data2/transactions.csv')\n",
    "user_transactions.head()\n",
    "# user_transactions.loc[user_transactions.customer_id == 6815]['mcc_code']"
   ]
  },
  {
   "cell_type": "code",
   "execution_count": 34,
   "metadata": {},
   "outputs": [],
   "source": [
    "import urllib.request\n",
    "import json      \n",
    "\n",
    "def get_prediction(customer_id):\n",
    "    body = {'customer_id': customer_id\n",
    "           } \n",
    "\n",
    "    myurl = \"http://0.0.0.0:8180/predict\"\n",
    "    req = urllib.request.Request(myurl)\n",
    "    req.add_header('Content-Type', 'application/json; charset=utf-8')\n",
    "    jsondata = json.dumps(body)\n",
    "    jsondataasbytes = jsondata.encode('utf-8')   # needs to be bytes\n",
    "    req.add_header('Content-Length', len(jsondataasbytes))\n",
    "    #print (jsondataasbytes)\n",
    "    response = urllib.request.urlopen(req, jsondataasbytes)\n",
    "    return json.loads(response.read())['predictions']"
   ]
  },
  {
   "cell_type": "code",
   "execution_count": 35,
   "metadata": {},
   "outputs": [
    {
     "data": {
      "text/plain": [
       "0.35127410884609955"
      ]
     },
     "execution_count": 35,
     "metadata": {},
     "output_type": "execute_result"
    }
   ],
   "source": [
    "get_prediction(28753)"
   ]
  },
  {
   "cell_type": "code",
   "execution_count": null,
   "metadata": {},
   "outputs": [],
   "source": []
  }
 ],
 "metadata": {
  "kernelspec": {
   "display_name": "Python 3",
   "language": "python",
   "name": "python3"
  },
  "language_info": {
   "codemirror_mode": {
    "name": "ipython",
    "version": 3
   },
   "file_extension": ".py",
   "mimetype": "text/x-python",
   "name": "python",
   "nbconvert_exporter": "python",
   "pygments_lexer": "ipython3",
   "version": "3.8.6"
  }
 },
 "nbformat": 4,
 "nbformat_minor": 4
}
