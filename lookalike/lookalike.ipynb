{
 "cells": [
  {
   "cell_type": "markdown",
   "metadata": {},
   "source": [
    "Будем использовать данные отсюда - [**Black Friday Sales**](https://www.kaggle.com/c/gb-black-friday-sales)   \n",
    "\n",
    "### Data fields\n",
    "\n",
    "* `User_ID` - идентификационный номер покупателя\n",
    "* `Product_ID` - идентификационный номер товара\n",
    "* `Gender` - пол покупателя \n",
    "* `Age` - возраст покупателя\n",
    "* `Occupation` - род деятельности покупателя\n",
    "* `City_Category` - город проживания\n",
    "* `Stay_In_Current_City_Years` - как долго покупатель живет в этом городе\n",
    "* `Marital_Status` - семейное положение покупателя\n",
    "* `Product_Category_1` - категория товара 1\n",
    "* `Product_Category_2` - категория товара 2\n",
    "* `Product_Category_3` - категория товара 3"
   ]
  },
  {
   "cell_type": "code",
   "execution_count": 95,
   "metadata": {},
   "outputs": [],
   "source": [
    "import pandas as pd\n",
    "import numpy as np\n",
    "import warnings\n",
    "from sklearn.pipeline import Pipeline, make_pipeline\n",
    "from sklearn.base import BaseEstimator, TransformerMixin\n",
    "from sklearn.metrics import f1_score, roc_auc_score, precision_score, classification_report, precision_recall_curve, confusion_matrix\n",
    "from sklearn.model_selection import train_test_split\n",
    "from catboost import CatBoostClassifier\n",
    "\n",
    "warnings.filterwarnings('ignore')"
   ]
  },
  {
   "cell_type": "code",
   "execution_count": 96,
   "metadata": {},
   "outputs": [
    {
     "data": {
      "text/html": [
       "<div>\n",
       "<style scoped>\n",
       "    .dataframe tbody tr th:only-of-type {\n",
       "        vertical-align: middle;\n",
       "    }\n",
       "\n",
       "    .dataframe tbody tr th {\n",
       "        vertical-align: top;\n",
       "    }\n",
       "\n",
       "    .dataframe thead th {\n",
       "        text-align: right;\n",
       "    }\n",
       "</style>\n",
       "<table border=\"1\" class=\"dataframe\">\n",
       "  <thead>\n",
       "    <tr style=\"text-align: right;\">\n",
       "      <th></th>\n",
       "      <th>User_ID</th>\n",
       "      <th>Product_ID</th>\n",
       "      <th>Gender</th>\n",
       "      <th>Age</th>\n",
       "      <th>Occupation</th>\n",
       "      <th>City_Category</th>\n",
       "      <th>Stay_In_Current_City_Years</th>\n",
       "      <th>Marital_Status</th>\n",
       "      <th>Product_Category_1</th>\n",
       "      <th>Product_Category_2</th>\n",
       "      <th>Product_Category_3</th>\n",
       "      <th>Purchase</th>\n",
       "    </tr>\n",
       "  </thead>\n",
       "  <tbody>\n",
       "    <tr>\n",
       "      <th>0</th>\n",
       "      <td>1004085</td>\n",
       "      <td>P00075742</td>\n",
       "      <td>F</td>\n",
       "      <td>26-35</td>\n",
       "      <td>6</td>\n",
       "      <td>A</td>\n",
       "      <td>1</td>\n",
       "      <td>0</td>\n",
       "      <td>8</td>\n",
       "      <td>14.0</td>\n",
       "      <td>NaN</td>\n",
       "      <td>7803</td>\n",
       "    </tr>\n",
       "    <tr>\n",
       "      <th>1</th>\n",
       "      <td>1005491</td>\n",
       "      <td>P00234842</td>\n",
       "      <td>M</td>\n",
       "      <td>18-25</td>\n",
       "      <td>7</td>\n",
       "      <td>A</td>\n",
       "      <td>1</td>\n",
       "      <td>0</td>\n",
       "      <td>5</td>\n",
       "      <td>6.0</td>\n",
       "      <td>16.0</td>\n",
       "      <td>6903</td>\n",
       "    </tr>\n",
       "    <tr>\n",
       "      <th>2</th>\n",
       "      <td>1003499</td>\n",
       "      <td>P00220142</td>\n",
       "      <td>M</td>\n",
       "      <td>26-35</td>\n",
       "      <td>3</td>\n",
       "      <td>A</td>\n",
       "      <td>2</td>\n",
       "      <td>0</td>\n",
       "      <td>1</td>\n",
       "      <td>15.0</td>\n",
       "      <td>NaN</td>\n",
       "      <td>15773</td>\n",
       "    </tr>\n",
       "    <tr>\n",
       "      <th>3</th>\n",
       "      <td>1000097</td>\n",
       "      <td>P00211242</td>\n",
       "      <td>F</td>\n",
       "      <td>36-45</td>\n",
       "      <td>3</td>\n",
       "      <td>C</td>\n",
       "      <td>3</td>\n",
       "      <td>0</td>\n",
       "      <td>8</td>\n",
       "      <td>12.0</td>\n",
       "      <td>NaN</td>\n",
       "      <td>8116</td>\n",
       "    </tr>\n",
       "    <tr>\n",
       "      <th>4</th>\n",
       "      <td>1005802</td>\n",
       "      <td>P00327142</td>\n",
       "      <td>F</td>\n",
       "      <td>26-35</td>\n",
       "      <td>0</td>\n",
       "      <td>A</td>\n",
       "      <td>4+</td>\n",
       "      <td>0</td>\n",
       "      <td>8</td>\n",
       "      <td>15.0</td>\n",
       "      <td>NaN</td>\n",
       "      <td>6144</td>\n",
       "    </tr>\n",
       "    <tr>\n",
       "      <th>...</th>\n",
       "      <td>...</td>\n",
       "      <td>...</td>\n",
       "      <td>...</td>\n",
       "      <td>...</td>\n",
       "      <td>...</td>\n",
       "      <td>...</td>\n",
       "      <td>...</td>\n",
       "      <td>...</td>\n",
       "      <td>...</td>\n",
       "      <td>...</td>\n",
       "      <td>...</td>\n",
       "      <td>...</td>\n",
       "    </tr>\n",
       "    <tr>\n",
       "      <th>79995</th>\n",
       "      <td>1000919</td>\n",
       "      <td>P00217942</td>\n",
       "      <td>F</td>\n",
       "      <td>36-45</td>\n",
       "      <td>1</td>\n",
       "      <td>C</td>\n",
       "      <td>1</td>\n",
       "      <td>0</td>\n",
       "      <td>5</td>\n",
       "      <td>NaN</td>\n",
       "      <td>NaN</td>\n",
       "      <td>5231</td>\n",
       "    </tr>\n",
       "    <tr>\n",
       "      <th>79996</th>\n",
       "      <td>1001733</td>\n",
       "      <td>P00255742</td>\n",
       "      <td>M</td>\n",
       "      <td>18-25</td>\n",
       "      <td>14</td>\n",
       "      <td>B</td>\n",
       "      <td>0</td>\n",
       "      <td>1</td>\n",
       "      <td>3</td>\n",
       "      <td>4.0</td>\n",
       "      <td>NaN</td>\n",
       "      <td>10904</td>\n",
       "    </tr>\n",
       "    <tr>\n",
       "      <th>79997</th>\n",
       "      <td>1002674</td>\n",
       "      <td>P00209842</td>\n",
       "      <td>M</td>\n",
       "      <td>26-35</td>\n",
       "      <td>4</td>\n",
       "      <td>A</td>\n",
       "      <td>1</td>\n",
       "      <td>0</td>\n",
       "      <td>5</td>\n",
       "      <td>8.0</td>\n",
       "      <td>NaN</td>\n",
       "      <td>6953</td>\n",
       "    </tr>\n",
       "    <tr>\n",
       "      <th>79998</th>\n",
       "      <td>1005599</td>\n",
       "      <td>P00171842</td>\n",
       "      <td>M</td>\n",
       "      <td>36-45</td>\n",
       "      <td>7</td>\n",
       "      <td>A</td>\n",
       "      <td>1</td>\n",
       "      <td>0</td>\n",
       "      <td>8</td>\n",
       "      <td>14.0</td>\n",
       "      <td>NaN</td>\n",
       "      <td>5888</td>\n",
       "    </tr>\n",
       "    <tr>\n",
       "      <th>79999</th>\n",
       "      <td>1002121</td>\n",
       "      <td>P00244642</td>\n",
       "      <td>M</td>\n",
       "      <td>55+</td>\n",
       "      <td>13</td>\n",
       "      <td>C</td>\n",
       "      <td>0</td>\n",
       "      <td>1</td>\n",
       "      <td>11</td>\n",
       "      <td>NaN</td>\n",
       "      <td>NaN</td>\n",
       "      <td>3054</td>\n",
       "    </tr>\n",
       "  </tbody>\n",
       "</table>\n",
       "<p>80000 rows × 12 columns</p>\n",
       "</div>"
      ],
      "text/plain": [
       "       User_ID Product_ID Gender    Age  Occupation City_Category  \\\n",
       "0      1004085  P00075742      F  26-35           6             A   \n",
       "1      1005491  P00234842      M  18-25           7             A   \n",
       "2      1003499  P00220142      M  26-35           3             A   \n",
       "3      1000097  P00211242      F  36-45           3             C   \n",
       "4      1005802  P00327142      F  26-35           0             A   \n",
       "...        ...        ...    ...    ...         ...           ...   \n",
       "79995  1000919  P00217942      F  36-45           1             C   \n",
       "79996  1001733  P00255742      M  18-25          14             B   \n",
       "79997  1002674  P00209842      M  26-35           4             A   \n",
       "79998  1005599  P00171842      M  36-45           7             A   \n",
       "79999  1002121  P00244642      M    55+          13             C   \n",
       "\n",
       "      Stay_In_Current_City_Years  Marital_Status  Product_Category_1  \\\n",
       "0                              1               0                   8   \n",
       "1                              1               0                   5   \n",
       "2                              2               0                   1   \n",
       "3                              3               0                   8   \n",
       "4                             4+               0                   8   \n",
       "...                          ...             ...                 ...   \n",
       "79995                          1               0                   5   \n",
       "79996                          0               1                   3   \n",
       "79997                          1               0                   5   \n",
       "79998                          1               0                   8   \n",
       "79999                          0               1                  11   \n",
       "\n",
       "       Product_Category_2  Product_Category_3  Purchase  \n",
       "0                    14.0                 NaN      7803  \n",
       "1                     6.0                16.0      6903  \n",
       "2                    15.0                 NaN     15773  \n",
       "3                    12.0                 NaN      8116  \n",
       "4                    15.0                 NaN      6144  \n",
       "...                   ...                 ...       ...  \n",
       "79995                 NaN                 NaN      5231  \n",
       "79996                 4.0                 NaN     10904  \n",
       "79997                 8.0                 NaN      6953  \n",
       "79998                14.0                 NaN      5888  \n",
       "79999                 NaN                 NaN      3054  \n",
       "\n",
       "[80000 rows x 12 columns]"
      ]
     },
     "execution_count": 96,
     "metadata": {},
     "output_type": "execute_result"
    }
   ],
   "source": [
    "df = pd.read_csv('black-friday-train.csv')\n",
    "df"
   ]
  },
  {
   "cell_type": "code",
   "execution_count": 97,
   "metadata": {},
   "outputs": [
    {
     "data": {
      "text/plain": [
       "P00265242    272\n",
       "P00025442    225\n",
       "P00112142    224\n",
       "P00058042    221\n",
       "P00110742    220\n",
       "            ... \n",
       "P00068542      1\n",
       "P00312442      1\n",
       "P00361042      1\n",
       "P00056542      1\n",
       "P00270442      1\n",
       "Name: Product_ID, Length: 3256, dtype: int64"
      ]
     },
     "execution_count": 97,
     "metadata": {},
     "output_type": "execute_result"
    }
   ],
   "source": [
    "df.Product_ID.value_counts()"
   ]
  },
  {
   "cell_type": "markdown",
   "metadata": {},
   "source": [
    "Создадим задачу классификации. Возьмем продукт P00265242 и разметим пользователей, которые его покупали как класс 1 (Positive), остальные будут 0 (Unlabled). "
   ]
  },
  {
   "cell_type": "code",
   "execution_count": 98,
   "metadata": {},
   "outputs": [],
   "source": [
    "users_who_bought = df.loc[df['Product_ID'] == 'P00265242', 'User_ID'].unique()"
   ]
  },
  {
   "cell_type": "code",
   "execution_count": 99,
   "metadata": {},
   "outputs": [
    {
     "data": {
      "text/plain": [
       "0    74859\n",
       "1     5141\n",
       "Name: bought_product, dtype: int64"
      ]
     },
     "execution_count": 99,
     "metadata": {},
     "output_type": "execute_result"
    }
   ],
   "source": [
    "df['bought_product'] = 0\n",
    "df['bought_product'].loc[df['User_ID'].isin(users_who_bought)] = 1\n",
    "df['bought_product'].value_counts()"
   ]
  },
  {
   "cell_type": "code",
   "execution_count": 100,
   "metadata": {},
   "outputs": [
    {
     "data": {
      "text/plain": [
       "0        1\n",
       "1        1\n",
       "2        2\n",
       "3        3\n",
       "4        4\n",
       "        ..\n",
       "79995    1\n",
       "79996    0\n",
       "79997    1\n",
       "79998    1\n",
       "79999    0\n",
       "Name: Stay_In_Current_City_Years, Length: 80000, dtype: int64"
      ]
     },
     "execution_count": 100,
     "metadata": {},
     "output_type": "execute_result"
    }
   ],
   "source": [
    "df.loc[df['Stay_In_Current_City_Years'] == '4+', 'Stay_In_Current_City_Years'] = 4\n",
    "df['Stay_In_Current_City_Years'].astype(int)"
   ]
  },
  {
   "cell_type": "code",
   "execution_count": 101,
   "metadata": {},
   "outputs": [],
   "source": [
    "X_train, X_test, y_train, y_test = train_test_split(df, df['bought_product'],\n",
    "                                                  shuffle=True,  \n",
    "                                                  stratify=df['bought_product'], \n",
    "                                                  random_state=42)"
   ]
  },
  {
   "cell_type": "code",
   "execution_count": 102,
   "metadata": {},
   "outputs": [
    {
     "data": {
      "text/plain": [
       "Index(['User_ID', 'Product_ID', 'Gender', 'Age', 'Occupation', 'City_Category',\n",
       "       'Stay_In_Current_City_Years', 'Marital_Status', 'Product_Category_1',\n",
       "       'Product_Category_2', 'Product_Category_3', 'Purchase',\n",
       "       'bought_product'],\n",
       "      dtype='object')"
      ]
     },
     "execution_count": 102,
     "metadata": {},
     "output_type": "execute_result"
    }
   ],
   "source": [
    "df.columns"
   ]
  },
  {
   "cell_type": "code",
   "execution_count": 103,
   "metadata": {},
   "outputs": [],
   "source": [
    "disbalance = df['bought_product'].value_counts()[0] / df['bought_product'].value_counts()[1]\n",
    "categories = ['Product_ID', 'Gender', 'Age', 'City_Category']\n",
    "features = ['Product_ID', 'Gender', 'Age', 'Occupation', 'City_Category',\n",
    "               'Stay_In_Current_City_Years', 'Marital_Status', 'Product_Category_1',\n",
    "               'Product_Category_2', 'Product_Category_3', 'Purchase']\n",
    "\n",
    "clf = CatBoostClassifier(silent=True, \n",
    "                         random_state=42, \n",
    "                         cat_features=categories,\n",
    "                         class_weights=[1, disbalance])\n",
    "\n",
    "clf.fit(X_train[features], y_train)\n",
    "\n",
    "y_train_prob = clf.predict_proba(X_train[features])\n",
    "y_test_prob = clf.predict_proba(X_test[features])"
   ]
  },
  {
   "cell_type": "code",
   "execution_count": 104,
   "metadata": {},
   "outputs": [
    {
     "name": "stdout",
     "output_type": "stream",
     "text": [
      "Best Threshold=0.730848, F-Score=0.612, Precision=0.604, Recall=0.619\n"
     ]
    }
   ],
   "source": [
    "precision, recall, thresholds = precision_recall_curve(y_test, y_test_prob[:,1])\n",
    "fscore = (2 * precision * recall) / (precision + recall)\n",
    "# locate the index of the largest f score\n",
    "ix = np.argmax(fscore)\n",
    "print('Best Threshold=%f, F-Score=%.3f, Precision=%.3f, Recall=%.3f' % (thresholds[ix], \n",
    "                                                                        fscore[ix],\n",
    "                                                                        precision[ix],\n",
    "                                                                        recall[ix]))"
   ]
  },
  {
   "cell_type": "markdown",
   "metadata": {},
   "source": [
    "Переразметим данные так, чтобы часть пользователей не попала, возьмем половину пользователей, которые купили как класс 1 (Positive), остальные будут 0 (Unlabled) "
   ]
  },
  {
   "cell_type": "code",
   "execution_count": 105,
   "metadata": {},
   "outputs": [],
   "source": [
    "inds = df.loc[df.bought_product == 1].index\n",
    "index = np.random.choice(inds, len(inds)//2, replace=False)\n",
    "\n",
    "df['y'] = 0\n",
    "df['y'].iloc[index] = 1\n"
   ]
  },
  {
   "cell_type": "code",
   "execution_count": 106,
   "metadata": {},
   "outputs": [],
   "source": [
    "#разделим данные на train/test\n",
    "X_train, X_test, y_train, y_test = train_test_split(df.drop(columns=['bought_product']), df['y'], random_state=42)"
   ]
  },
  {
   "cell_type": "code",
   "execution_count": 107,
   "metadata": {},
   "outputs": [],
   "source": [
    "clf = CatBoostClassifier(silent=True, \n",
    "                         random_state=42, \n",
    "                         cat_features=categories,\n",
    "                         class_weights=[1, disbalance])\n",
    "\n",
    "clf.fit(X_train, y_train)\n",
    "\n",
    "y_train_prob = clf.predict_proba(X_train)\n",
    "y_df_prob = clf.predict_proba(df.drop(columns=['bought_product']))"
   ]
  },
  {
   "cell_type": "code",
   "execution_count": 108,
   "metadata": {},
   "outputs": [
    {
     "data": {
      "text/plain": [
       "array([3.10480884e-05, 3.43089770e-05, 3.10467374e-05, ...,\n",
       "       3.15949633e-05, 2.95160340e-05, 4.25791751e-05])"
      ]
     },
     "execution_count": 108,
     "metadata": {},
     "output_type": "execute_result"
    }
   ],
   "source": [
    "y_df_prob[:, 1]"
   ]
  },
  {
   "cell_type": "code",
   "execution_count": 109,
   "metadata": {},
   "outputs": [
    {
     "name": "stdout",
     "output_type": "stream",
     "text": [
      "Best Threshold=0.999863, F-Score=0.667, Precision=1.000, Recall=0.500\n"
     ]
    }
   ],
   "source": [
    "precision, recall, thresholds = precision_recall_curve(df['bought_product'], y_df_prob[:,1])\n",
    "fscore = (2  * precision * recall) / (precision + recall)\n",
    "# locate the index of the largest f score\n",
    "ix = np.argmax(fscore)\n",
    "print('Best Threshold=%f, F-Score=%.3f, Precision=%.3f, Recall=%.3f' % (thresholds[ix], \n",
    "                                                                        fscore[ix],\n",
    "                                                                        precision[ix],\n",
    "                                                                        recall[ix]))\n"
   ]
  },
  {
   "cell_type": "markdown",
   "metadata": {},
   "source": [
    "На всех размеченных данных метрики классификации были:  \n",
    "F-Score=0.612, Precision=0.604, Recall=0.619\n",
    "\n",
    "На половине разметки:  \n",
    "Best Threshold=0.999863, F-Score=0.667, Precision=1.000, Recall=0.500\n",
    "\n",
    "Качество модели не ухудшилось"
   ]
  },
  {
   "cell_type": "code",
   "execution_count": null,
   "metadata": {},
   "outputs": [],
   "source": []
  },
  {
   "cell_type": "code",
   "execution_count": null,
   "metadata": {},
   "outputs": [],
   "source": []
  }
 ],
 "metadata": {
  "kernelspec": {
   "display_name": "Python 3",
   "language": "python",
   "name": "python3"
  },
  "language_info": {
   "codemirror_mode": {
    "name": "ipython",
    "version": 3
   },
   "file_extension": ".py",
   "mimetype": "text/x-python",
   "name": "python",
   "nbconvert_exporter": "python",
   "pygments_lexer": "ipython3",
   "version": "3.8.6"
  }
 },
 "nbformat": 4,
 "nbformat_minor": 4
}
