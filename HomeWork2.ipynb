{
 "cells": [
  {
   "cell_type": "markdown",
   "metadata": {
    "id": "Gds4vHzMMIF8"
   },
   "source": [
    "### Профилирование пользователей. Сегментация аудитории: unsupervised learning (clustering, LDA/ARTM), supervised (multi/binary classification)#"
   ]
  },
  {
   "cell_type": "markdown",
   "metadata": {
    "id": "y3b6LoVSMIGD"
   },
   "source": [
    "Рассматривать мы все будем в контексте решения конкретной прикладной задачи - задачи оттока  \n",
    "\n",
    "Нам нужны:\n",
    "\n",
    "1. векторное представление пользователя\n",
    "2. сегменты, описывающие интересы пользователя\n",
    "\n",
    "В контексте нашей задачи - это одно и то же.  \n",
    "Начнем с векторного представления и сегментов новостей."
   ]
  },
  {
   "cell_type": "markdown",
   "metadata": {
    "id": "WMkEPATUMIGE"
   },
   "source": [
    "### Задача тематического моделирования\n",
    "\n",
    "[Вероятностное тематическое моделирование LDA/ARTM Воронцов К.В. (МФТИ)](http://www.machinelearning.ru/wiki/images/d/d5/Voron17survey-artm.pdf)"
   ]
  },
  {
   "cell_type": "code",
   "execution_count": 6,
   "metadata": {
    "colab": {
     "base_uri": "https://localhost:8080/"
    },
    "id": "1yqhFYoKOIIw",
    "outputId": "9983f111-c30d-4fec-cff9-f6f9020cfebc"
   },
   "outputs": [
    {
     "name": "stdout",
     "output_type": "stream",
     "text": [
      "\u001b[33mDEPRECATION: Configuring installation scheme with distutils config files is deprecated and will no longer work in the near future. If you are using a Homebrew or Linuxbrew Python, please see discussion at https://github.com/Homebrew/homebrew-core/issues/76621\u001b[0m\n",
      "Requirement already satisfied: razdel in /usr/local/lib/python3.8/site-packages (0.5.0)\n",
      "\u001b[33mDEPRECATION: Configuring installation scheme with distutils config files is deprecated and will no longer work in the near future. If you are using a Homebrew or Linuxbrew Python, please see discussion at https://github.com/Homebrew/homebrew-core/issues/76621\u001b[0m\n"
     ]
    }
   ],
   "source": [
    "# установим razdel - библиотека для токенизации\n",
    "# !pip install razdel"
   ]
  },
  {
   "cell_type": "code",
   "execution_count": 3,
   "metadata": {
    "colab": {
     "base_uri": "https://localhost:8080/"
    },
    "id": "-sNoY9zpOQN7",
    "outputId": "a6c431c4-7204-409b-a75d-a0db55376754"
   },
   "outputs": [
    {
     "name": "stdout",
     "output_type": "stream",
     "text": [
      "Collecting pymorphy2\n",
      "  Downloading pymorphy2-0.9.1-py3-none-any.whl (55 kB)\n",
      "\u001b[K     |████████████████████████████████| 55 kB 1.9 MB/s eta 0:00:011\n",
      "\u001b[?25hCollecting docopt>=0.6\n",
      "  Downloading docopt-0.6.2.tar.gz (25 kB)\n",
      "Collecting pymorphy2-dicts-ru<3.0,>=2.4\n",
      "  Downloading pymorphy2_dicts_ru-2.4.417127.4579844-py2.py3-none-any.whl (8.2 MB)\n",
      "\u001b[K     |████████████████████████████████| 8.2 MB 7.2 MB/s eta 0:00:01     |████████████████████▉           | 5.3 MB 4.2 MB/s eta 0:00:01\n",
      "\u001b[?25hCollecting dawg-python>=0.7.1\n",
      "  Downloading DAWG_Python-0.7.2-py2.py3-none-any.whl (11 kB)\n",
      "Building wheels for collected packages: docopt\n",
      "  Building wheel for docopt (setup.py) ... \u001b[?25ldone\n",
      "\u001b[?25h  Created wheel for docopt: filename=docopt-0.6.2-py2.py3-none-any.whl size=13704 sha256=ed90ca07060d266033d40d7ac60649e0c3ac26e178f7dae949f99b36da2cc8ca\n",
      "  Stored in directory: /Users/Katrinka/Library/Caches/pip/wheels/56/ea/58/ead137b087d9e326852a851351d1debf4ada529b6ac0ec4e8c\n",
      "Successfully built docopt\n",
      "Installing collected packages: pymorphy2-dicts-ru, docopt, dawg-python, pymorphy2\n",
      "Successfully installed dawg-python-0.7.2 docopt-0.6.2 pymorphy2-0.9.1 pymorphy2-dicts-ru-2.4.417127.4579844\n",
      "\u001b[33mWARNING: You are using pip version 21.1.3; however, version 21.2.4 is available.\n",
      "You should consider upgrading via the '/usr/local/opt/python@3.8/bin/python3.8 -m pip install --upgrade pip' command.\u001b[0m\n"
     ]
    }
   ],
   "source": [
    "# установим razdel - библиотека для обработки, нормалицации слов\n",
    "# stemming - обрезает слова для чего-то простого типа чат-бота\n",
    "# https://habr.com/ru/company/Voximplant/blog/446738/\n",
    "\n",
    "# !pip install pymorphy2"
   ]
  },
  {
   "cell_type": "code",
   "execution_count": 16,
   "metadata": {},
   "outputs": [
    {
     "name": "stdout",
     "output_type": "stream",
     "text": [
      "\u001b[33mDEPRECATION: Configuring installation scheme with distutils config files is deprecated and will no longer work in the near future. If you are using a Homebrew or Linuxbrew Python, please see discussion at https://github.com/Homebrew/homebrew-core/issues/76621\u001b[0m\n",
      "Requirement already satisfied: gensim in /usr/local/lib/python3.8/site-packages (4.1.2)\n",
      "Collecting nltk\n",
      "  Downloading nltk-3.6.2-py3-none-any.whl (1.5 MB)\n",
      "\u001b[K     |████████████████████████████████| 1.5 MB 2.8 MB/s eta 0:00:01\n",
      "\u001b[?25hRequirement already satisfied: numpy>=1.17.0 in /usr/local/lib/python3.8/site-packages (from gensim) (1.19.0)\n",
      "Requirement already satisfied: scipy>=0.18.1 in /usr/local/lib/python3.8/site-packages (from gensim) (1.5.4)\n",
      "Requirement already satisfied: smart-open>=1.8.1 in /usr/local/lib/python3.8/site-packages (from gensim) (5.2.1)\n",
      "Collecting regex\n",
      "  Downloading regex-2021.8.28-cp38-cp38-macosx_10_9_x86_64.whl (285 kB)\n",
      "\u001b[K     |████████████████████████████████| 285 kB 7.2 MB/s eta 0:00:01\n",
      "\u001b[?25hRequirement already satisfied: joblib in /usr/local/lib/python3.8/site-packages (from nltk) (0.17.0)\n",
      "Requirement already satisfied: click in /usr/local/lib/python3.8/site-packages (from nltk) (8.0.1)\n",
      "Requirement already satisfied: tqdm in /usr/local/lib/python3.8/site-packages (from nltk) (4.61.0)\n",
      "Installing collected packages: regex, nltk\n",
      "\u001b[33m  DEPRECATION: Configuring installation scheme with distutils config files is deprecated and will no longer work in the near future. If you are using a Homebrew or Linuxbrew Python, please see discussion at https://github.com/Homebrew/homebrew-core/issues/76621\u001b[0m\n",
      "\u001b[33m  DEPRECATION: Configuring installation scheme with distutils config files is deprecated and will no longer work in the near future. If you are using a Homebrew or Linuxbrew Python, please see discussion at https://github.com/Homebrew/homebrew-core/issues/76621\u001b[0m\n",
      "\u001b[33mDEPRECATION: Configuring installation scheme with distutils config files is deprecated and will no longer work in the near future. If you are using a Homebrew or Linuxbrew Python, please see discussion at https://github.com/Homebrew/homebrew-core/issues/76621\u001b[0m\n",
      "Successfully installed nltk-3.6.2 regex-2021.8.28\n"
     ]
    }
   ],
   "source": [
    "# !pip install gensim nltk"
   ]
  },
  {
   "cell_type": "markdown",
   "metadata": {
    "id": "AmhH7IAvMIGi"
   },
   "source": [
    "У нас есть три датасета:\n",
    "\n",
    "1) Новости: id и текст самой новости;  \n",
    "2) Список новостей, которые прочел пользователь: uid и список id статей, которые он прочел;  \n",
    "3) Информация об оттоке: uid, churn;"
   ]
  },
  {
   "cell_type": "code",
   "execution_count": 127,
   "metadata": {
    "id": "ctZ-EA4UMIGh"
   },
   "outputs": [],
   "source": [
    "import pandas as pd"
   ]
  },
  {
   "cell_type": "code",
   "execution_count": 128,
   "metadata": {
    "colab": {
     "base_uri": "https://localhost:8080/",
     "height": 225
    },
    "id": "gycmprucMIGi",
    "outputId": "fa97656d-a55d-401e-a0d7-57eb1c180564"
   },
   "outputs": [
    {
     "name": "stdout",
     "output_type": "stream",
     "text": [
      "(27000, 2)\n"
     ]
    },
    {
     "data": {
      "text/html": [
       "<div>\n",
       "<style scoped>\n",
       "    .dataframe tbody tr th:only-of-type {\n",
       "        vertical-align: middle;\n",
       "    }\n",
       "\n",
       "    .dataframe tbody tr th {\n",
       "        vertical-align: top;\n",
       "    }\n",
       "\n",
       "    .dataframe thead th {\n",
       "        text-align: right;\n",
       "    }\n",
       "</style>\n",
       "<table border=\"1\" class=\"dataframe\">\n",
       "  <thead>\n",
       "    <tr style=\"text-align: right;\">\n",
       "      <th></th>\n",
       "      <th>doc_id</th>\n",
       "      <th>title</th>\n",
       "    </tr>\n",
       "  </thead>\n",
       "  <tbody>\n",
       "    <tr>\n",
       "      <th>0</th>\n",
       "      <td>6</td>\n",
       "      <td>Заместитель председателяnправительства РФnСерг...</td>\n",
       "    </tr>\n",
       "    <tr>\n",
       "      <th>1</th>\n",
       "      <td>4896</td>\n",
       "      <td>Матч 1/16 финала Кубка России по футболу был п...</td>\n",
       "    </tr>\n",
       "    <tr>\n",
       "      <th>2</th>\n",
       "      <td>4897</td>\n",
       "      <td>Форвард «Авангарда» Томаш Заборский прокоммент...</td>\n",
       "    </tr>\n",
       "  </tbody>\n",
       "</table>\n",
       "</div>"
      ],
      "text/plain": [
       "   doc_id                                              title\n",
       "0       6  Заместитель председателяnправительства РФnСерг...\n",
       "1    4896  Матч 1/16 финала Кубка России по футболу был п...\n",
       "2    4897  Форвард «Авангарда» Томаш Заборский прокоммент..."
      ]
     },
     "execution_count": 128,
     "metadata": {},
     "output_type": "execute_result"
    }
   ],
   "source": [
    "# Загрузим датасет новостей\n",
    "news = pd.read_csv(\"lection2_materials/articles.csv\")\n",
    "print(news.shape)\n",
    "news.head(3)"
   ]
  },
  {
   "cell_type": "code",
   "execution_count": 129,
   "metadata": {
    "colab": {
     "base_uri": "https://localhost:8080/",
     "height": 206
    },
    "id": "rIXeUk4iMIGl",
    "outputId": "d104738a-dc8e-47ae-98f8-fc3deae3b7d5"
   },
   "outputs": [
    {
     "data": {
      "text/html": [
       "<div>\n",
       "<style scoped>\n",
       "    .dataframe tbody tr th:only-of-type {\n",
       "        vertical-align: middle;\n",
       "    }\n",
       "\n",
       "    .dataframe tbody tr th {\n",
       "        vertical-align: top;\n",
       "    }\n",
       "\n",
       "    .dataframe thead th {\n",
       "        text-align: right;\n",
       "    }\n",
       "</style>\n",
       "<table border=\"1\" class=\"dataframe\">\n",
       "  <thead>\n",
       "    <tr style=\"text-align: right;\">\n",
       "      <th></th>\n",
       "      <th>uid</th>\n",
       "      <th>articles</th>\n",
       "    </tr>\n",
       "  </thead>\n",
       "  <tbody>\n",
       "    <tr>\n",
       "      <th>0</th>\n",
       "      <td>u105138</td>\n",
       "      <td>[293672, 293328, 293001, 293622, 293126, 1852]</td>\n",
       "    </tr>\n",
       "    <tr>\n",
       "      <th>1</th>\n",
       "      <td>u108690</td>\n",
       "      <td>[3405, 1739, 2972, 1158, 1599, 322665]</td>\n",
       "    </tr>\n",
       "    <tr>\n",
       "      <th>2</th>\n",
       "      <td>u108339</td>\n",
       "      <td>[1845, 2009, 2356, 1424, 2939, 323389]</td>\n",
       "    </tr>\n",
       "  </tbody>\n",
       "</table>\n",
       "</div>"
      ],
      "text/plain": [
       "       uid                                        articles\n",
       "0  u105138  [293672, 293328, 293001, 293622, 293126, 1852]\n",
       "1  u108690          [3405, 1739, 2972, 1158, 1599, 322665]\n",
       "2  u108339          [1845, 2009, 2356, 1424, 2939, 323389]"
      ]
     },
     "execution_count": 129,
     "metadata": {},
     "output_type": "execute_result"
    }
   ],
   "source": [
    "# Загрузим пользователей и списки последних прочитанных новостей\n",
    "users = pd.read_csv(\"lection2_materials/users_articles.csv\")\n",
    "users.head(3)"
   ]
  },
  {
   "cell_type": "code",
   "execution_count": 130,
   "metadata": {
    "id": "F3BLyGs12khG"
   },
   "outputs": [
    {
     "data": {
      "text/html": [
       "<div>\n",
       "<style scoped>\n",
       "    .dataframe tbody tr th:only-of-type {\n",
       "        vertical-align: middle;\n",
       "    }\n",
       "\n",
       "    .dataframe tbody tr th {\n",
       "        vertical-align: top;\n",
       "    }\n",
       "\n",
       "    .dataframe thead th {\n",
       "        text-align: right;\n",
       "    }\n",
       "</style>\n",
       "<table border=\"1\" class=\"dataframe\">\n",
       "  <thead>\n",
       "    <tr style=\"text-align: right;\">\n",
       "      <th></th>\n",
       "      <th>uid</th>\n",
       "      <th>churn</th>\n",
       "    </tr>\n",
       "  </thead>\n",
       "  <tbody>\n",
       "    <tr>\n",
       "      <th>0</th>\n",
       "      <td>u107120</td>\n",
       "      <td>0</td>\n",
       "    </tr>\n",
       "    <tr>\n",
       "      <th>1</th>\n",
       "      <td>u102277</td>\n",
       "      <td>0</td>\n",
       "    </tr>\n",
       "    <tr>\n",
       "      <th>2</th>\n",
       "      <td>u102444</td>\n",
       "      <td>0</td>\n",
       "    </tr>\n",
       "  </tbody>\n",
       "</table>\n",
       "</div>"
      ],
      "text/plain": [
       "       uid  churn\n",
       "0  u107120      0\n",
       "1  u102277      0\n",
       "2  u102444      0"
      ]
     },
     "execution_count": 130,
     "metadata": {},
     "output_type": "execute_result"
    }
   ],
   "source": [
    "# Загрузим данные по оттоку клиентов - таргет\n",
    "target = pd.read_csv(\"lection2_materials/users_churn.csv\")\n",
    "target.head(3)"
   ]
  },
  {
   "cell_type": "markdown",
   "metadata": {
    "id": "ra5jYUNoMIGm"
   },
   "source": [
    "Нам нужно получить векторные представления пользователей на основе прочитанным ими новостей и самих новостей\n",
    "\n",
    "### 1. Получаем векторные представления новостей  \n",
    "\n",
    "[Gensim - руководство для начинающих](https://webdevblog.ru/gensim-rukovodstvo-dlya-nachinajushhih/)"
   ]
  },
  {
   "cell_type": "code",
   "execution_count": 131,
   "metadata": {
    "id": "LBjgEo9DMIGm"
   },
   "outputs": [],
   "source": [
    "#from gensim.test.utils import common_texts\n",
    "from gensim.corpora.dictionary import Dictionary"
   ]
  },
  {
   "cell_type": "code",
   "execution_count": 132,
   "metadata": {
    "id": "pXp8Q2WNMIGn"
   },
   "outputs": [],
   "source": [
    "#предобработка текстов\n",
    "import re\n",
    "import numpy as np\n",
    "from nltk.corpus import stopwords\n",
    "#from nltk.tokenize import word_tokenize\n",
    "\n",
    "from razdel import tokenize\n",
    "# https://github.com/natasha/razdel\n",
    "\n",
    "import pymorphy2 "
   ]
  },
  {
   "cell_type": "code",
   "execution_count": 133,
   "metadata": {
    "colab": {
     "base_uri": "https://localhost:8080/"
    },
    "id": "ea5xiOOMOgla",
    "outputId": "b975b3bd-ae7e-4046-cf54-19d1afa9bf3c"
   },
   "outputs": [
    {
     "name": "stderr",
     "output_type": "stream",
     "text": [
      "[nltk_data] Downloading package stopwords to\n",
      "[nltk_data]     /Users/Katrinka/nltk_data...\n",
      "[nltk_data]   Package stopwords is already up-to-date!\n"
     ]
    },
    {
     "data": {
      "text/plain": [
       "True"
      ]
     },
     "execution_count": 133,
     "metadata": {},
     "output_type": "execute_result"
    }
   ],
   "source": [
    "import nltk\n",
    "nltk.download('stopwords')"
   ]
  },
  {
   "cell_type": "code",
   "execution_count": 134,
   "metadata": {
    "id": "n4UkLRydMIGn"
   },
   "outputs": [],
   "source": [
    "# загружаем стоп-слова Русского языка \n",
    "stopword_ru = stopwords.words('russian')\n",
    "\n",
    "# создаем морфологический анализатор (экземпляр класса)\n",
    "morph = pymorphy2.MorphAnalyzer()"
   ]
  },
  {
   "cell_type": "code",
   "execution_count": 135,
   "metadata": {
    "colab": {
     "base_uri": "https://localhost:8080/"
    },
    "id": "JvD3j5zYEPZS",
    "outputId": "01a18b77-dc15-4e5d-d7de-949a7a312ece"
   },
   "outputs": [
    {
     "data": {
      "text/plain": [
       "151"
      ]
     },
     "execution_count": 135,
     "metadata": {},
     "output_type": "execute_result"
    }
   ],
   "source": [
    "len(stopword_ru)"
   ]
  },
  {
   "cell_type": "code",
   "execution_count": 136,
   "metadata": {
    "colab": {
     "base_uri": "https://localhost:8080/"
    },
    "id": "gRCY_H-LMIGo",
    "outputId": "47ccab7d-14a8-4e09-94d3-77bd31e8dfd0"
   },
   "outputs": [
    {
     "data": {
      "text/plain": [
       "776"
      ]
     },
     "execution_count": 136,
     "metadata": {},
     "output_type": "execute_result"
    }
   ],
   "source": [
    "# добавим к стоп-словам еще один список из нашего дополнительного файла\n",
    "\n",
    "with open('lection2_materials/stopwords.txt') as f:\n",
    "    additional_stopwords = [w.strip() for w in f.readlines() if w]\n",
    "stopword_ru += additional_stopwords\n",
    "\n",
    "len(stopword_ru)"
   ]
  },
  {
   "cell_type": "code",
   "execution_count": 137,
   "metadata": {
    "colab": {
     "base_uri": "https://localhost:8080/",
     "height": 35
    },
    "id": "5zG-fPb7Et2-",
    "outputId": "dec02e86-b656-4fb9-9e20-124179cc05ef"
   },
   "outputs": [
    {
     "data": {
      "text/plain": [
       "'опять'"
      ]
     },
     "execution_count": 137,
     "metadata": {},
     "output_type": "execute_result"
    }
   ],
   "source": [
    "stopword_ru[55]"
   ]
  },
  {
   "cell_type": "code",
   "execution_count": 138,
   "metadata": {
    "id": "DiAt1i81MIGp"
   },
   "outputs": [],
   "source": [
    "def clean_text(text):\n",
    "    '''\n",
    "    очистка текста\n",
    "    \n",
    "    на выходе очищеный текст\n",
    "    \n",
    "    '''\n",
    "    if not isinstance(text, str):\n",
    "        text = str(text)\n",
    "    \n",
    "    text = text.lower()\n",
    "    text = text.strip('\\n').strip('\\r').strip('\\t')\n",
    "    text = re.sub(\"-\\s\\r\\n\\|-\\s\\r\\n|\\r\\n\", '', str(text))\n",
    "\n",
    "    text = re.sub(\"[0-9]|[-—.,:;_%©«»?*!@#№$^•·&()]|[+=]|[[]|[]]|[/]|\", '', text)\n",
    "    text = re.sub(r\"\\r\\n\\t|\\n|\\\\s|\\r\\t|\\\\n\", ' ', text)\n",
    "    text = re.sub(r'[\\xad]|[\\s+]', ' ', text.strip())\n",
    "    text = re.sub(\"n\", ' ', text)\n",
    "\n",
    "    \n",
    "    #tokens = list(tokenize(text))\n",
    "    #words = [_.text for _ in tokens]\n",
    "    #words = [w for w in words if w not in stopword_ru]\n",
    "    \n",
    "    #return \" \".join(words)\n",
    "    return text\n",
    "\n",
    "cache = {}\n",
    "\n",
    "def lemmatization(text):\n",
    "    '''\n",
    "    лемматизация\n",
    "        [0] если зашел тип не `str` делаем его `str`\n",
    "        [1] токенизация предложения через razdel\n",
    "        [2] проверка есть ли в начале слова '-'\n",
    "        [3] проверка токена с одного символа\n",
    "        [4] проверка есть ли данное слово в кэше\n",
    "        [5] лемматизация слова\n",
    "        [6] проверка на стоп-слова\n",
    "\n",
    "    на выходе лист отлемматизированых токенов\n",
    "    '''\n",
    "\n",
    "    # [0]\n",
    "    if not isinstance(text, str):\n",
    "        text = str(text)\n",
    "    \n",
    "    # [1]\n",
    "    tokens = list(tokenize(text))\n",
    "    #print(tokens)\n",
    "    words = [_.text for _ in tokens]\n",
    "\n",
    "    words_lem = []\n",
    "    for w in words:\n",
    "        if w[0] == '-': # [2]\n",
    "            w = w[1:]\n",
    "        if len(w)>1: # [3]\n",
    "            if w in cache: # [4]\n",
    "                words_lem.append(cache[w])\n",
    "                #print(temp_cach)\n",
    "            else: # [5]\n",
    "                temp_cach = cache[w] = morph.parse(w)[0].normal_form # приводим слово к нормальной форме\n",
    "                words_lem.append(temp_cach)\n",
    "                #print(w,' : ',temp_cach)\n",
    "    \n",
    "    words_lem_without_stopwords=[i for i in words_lem if not i in stopword_ru] # [6]\n",
    "    #print(words_lem_without_stopwords)\n",
    "    return words_lem_without_stopwords"
   ]
  },
  {
   "cell_type": "code",
   "execution_count": 140,
   "metadata": {
    "colab": {
     "base_uri": "https://localhost:8080/"
    },
    "id": "90aWsoUley3W",
    "outputId": "13b3e4bb-1d4f-43b6-f054-510779d02e14"
   },
   "outputs": [
    {
     "data": {
      "text/plain": [
       "[Substring(0, 11, 'Заместитель'),\n",
       " Substring(12, 24, 'председателя'),\n",
       " Substring(24, 25, 'n'),\n",
       " Substring(25, 38, 'правительства'),\n",
       " Substring(39, 41, 'РФ'),\n",
       " Substring(41, 42, 'n'),\n",
       " Substring(42, 48, 'Сергей'),\n",
       " Substring(48, 49, 'n'),\n",
       " Substring(49, 55, 'Иванов'),\n",
       " Substring(55, 56, 'n'),\n",
       " Substring(56, 62, 'избран'),\n",
       " Substring(63, 76, 'председателем'),\n",
       " Substring(77, 83, 'совета'),\n",
       " Substring(83, 84, 'n'),\n",
       " Substring(84, 87, 'ПБК'),\n",
       " Substring(88, 92, 'ЦСКА'),\n",
       " Substring(92, 93, 'n'),\n",
       " Substring(93, 94, '.'),\n",
       " Substring(95, 98, 'Как'),\n",
       " Substring(99, 100, 'с')]"
      ]
     },
     "execution_count": 140,
     "metadata": {},
     "output_type": "execute_result"
    }
   ],
   "source": [
    "list(tokenize(news.iloc[0,1][:100],   ))"
   ]
  },
  {
   "cell_type": "code",
   "execution_count": 141,
   "metadata": {
    "colab": {
     "base_uri": "https://localhost:8080/"
    },
    "id": "nZHNY8lqeA6a",
    "outputId": "89fe37ad-70de-4236-d2bf-7ced3ccefc6b"
   },
   "outputs": [
    {
     "data": {
      "text/plain": [
       "0    заместитель председателя правительства рф серг...\n",
       "1    матч  финала кубка россии по футболу был приос...\n",
       "Name: title, dtype: object"
      ]
     },
     "execution_count": 141,
     "metadata": {},
     "output_type": "execute_result"
    }
   ],
   "source": [
    "# очищаем каждую статью \n",
    "norm_text = news.iloc[:2,1].apply(lambda x: clean_text(x), 1)\n",
    "norm_text"
   ]
  },
  {
   "cell_type": "code",
   "execution_count": 142,
   "metadata": {
    "colab": {
     "base_uri": "https://localhost:8080/"
    },
    "id": "VqgNGTEPGZnr",
    "outputId": "ddbb3763-72a4-4f56-bc77-30d8aed61ce8"
   },
   "outputs": [
    {
     "data": {
      "text/plain": [
       "['заместитель',\n",
       " 'председатель',\n",
       " 'правительство',\n",
       " 'рф',\n",
       " 'сергей',\n",
       " 'иванов',\n",
       " 'избрать',\n",
       " 'председатель',\n",
       " 'совет',\n",
       " 'пбк',\n",
       " 'цска',\n",
       " 'прессслужба',\n",
       " 'армеец',\n",
       " 'решение',\n",
       " 'единогласно',\n",
       " 'принять',\n",
       " 'первый',\n",
       " 'заседание',\n",
       " 'совет',\n",
       " 'клуб',\n",
       " 'основной',\n",
       " 'функция',\n",
       " 'орган',\n",
       " 'обсуждение',\n",
       " 'текущий',\n",
       " 'состояние',\n",
       " 'планирование',\n",
       " 'утверждение',\n",
       " 'стратегия',\n",
       " 'развитие',\n",
       " 'клуб',\n",
       " 'близкий',\n",
       " 'перспектива',\n",
       " 'состав',\n",
       " 'совет',\n",
       " 'войти',\n",
       " 'георгий',\n",
       " 'полтавченко',\n",
       " 'полномочный',\n",
       " 'центральный',\n",
       " 'федеральный',\n",
       " 'округ',\n",
       " 'алексей',\n",
       " 'седов',\n",
       " 'генералполковник',\n",
       " 'начальник',\n",
       " 'служба',\n",
       " 'защита',\n",
       " 'конституционный',\n",
       " 'строй',\n",
       " 'борьба',\n",
       " 'терроризм',\n",
       " 'фсб',\n",
       " 'рф',\n",
       " 'александр',\n",
       " 'новак',\n",
       " 'заместитель',\n",
       " 'министр',\n",
       " 'финансы',\n",
       " 'рф',\n",
       " 'вячеслав',\n",
       " 'полтавец',\n",
       " 'заместитель',\n",
       " 'генеральный',\n",
       " 'директор',\n",
       " 'руководитель',\n",
       " 'блок',\n",
       " 'взаимодействие',\n",
       " 'орган',\n",
       " 'власть',\n",
       " 'социальный',\n",
       " 'корпоративный',\n",
       " 'политика',\n",
       " 'гмк',\n",
       " 'норильский',\n",
       " 'никель',\n",
       " 'леонид',\n",
       " 'исакович',\n",
       " 'генеральный',\n",
       " 'директор',\n",
       " 'ооо',\n",
       " 'ук',\n",
       " 'спортивный',\n",
       " 'проект',\n",
       " 'ольга',\n",
       " 'плешаков',\n",
       " 'генеральный',\n",
       " 'директор',\n",
       " 'трансаэро',\n",
       " 'александр',\n",
       " 'провоторов',\n",
       " 'генеральный',\n",
       " 'директор',\n",
       " 'оао',\n",
       " 'ростелеком',\n",
       " 'андрей',\n",
       " 'лопат',\n",
       " 'эксигрок',\n",
       " 'цска',\n",
       " 'чемпион',\n",
       " 'мир',\n",
       " 'трёхкратный',\n",
       " 'чемпион',\n",
       " 'европа',\n",
       " 'баскетбол',\n",
       " 'председатель',\n",
       " 'правление',\n",
       " 'банк',\n",
       " 'клиентский',\n",
       " 'андрей',\n",
       " 'ватутин',\n",
       " 'пбк',\n",
       " 'цска']"
      ]
     },
     "execution_count": 142,
     "metadata": {},
     "output_type": "execute_result"
    }
   ],
   "source": [
    "# вот так выглядит статья, которая прошла лемматизацию, по сути это список из слов-токенов, которые есть в статье\n",
    "lemmatization(norm_text[0])"
   ]
  },
  {
   "cell_type": "code",
   "execution_count": 143,
   "metadata": {
    "colab": {
     "base_uri": "https://localhost:8080/"
    },
    "id": "KfixKuSMMIGq",
    "outputId": "27b24f3e-6195-4db0-eaa5-ce1a6efc1233"
   },
   "outputs": [
    {
     "name": "stdout",
     "output_type": "stream",
     "text": [
      "CPU times: user 44.6 s, sys: 737 ms, total: 45.3 s\n",
      "Wall time: 46.6 s\n"
     ]
    }
   ],
   "source": [
    "%%time\n",
    "#Запускаем очистку текста. Будет долго...\n",
    "news['title'] = news['title'].apply(lambda x: clean_text(x), 1)"
   ]
  },
  {
   "cell_type": "code",
   "execution_count": 144,
   "metadata": {
    "colab": {
     "base_uri": "https://localhost:8080/"
    },
    "id": "A0m01zNlMIGs",
    "outputId": "3ebcfd2a-21e9-426a-982f-19f4b5f0b7bf"
   },
   "outputs": [
    {
     "name": "stdout",
     "output_type": "stream",
     "text": [
      "CPU times: user 7min 18s, sys: 6.04 s, total: 7min 24s\n",
      "Wall time: 9min 15s\n"
     ]
    }
   ],
   "source": [
    "%%time\n",
    "#Запускаем лемматизацию текста. Будет очень долго...\n",
    "news['title'] = news['title'].apply(lambda x: lemmatization(x), 1)"
   ]
  },
  {
   "cell_type": "markdown",
   "metadata": {
    "id": "OMqHynF9MIGu"
   },
   "source": [
    "А теперь в 3 строчки обучим нашу модель"
   ]
  },
  {
   "cell_type": "code",
   "execution_count": 145,
   "metadata": {
    "id": "Yd6EZ8RbMIGu"
   },
   "outputs": [],
   "source": [
    "#сформируем список наших текстов, разбив еще и на пробелы\n",
    "texts = [t for t in news['title'].values]\n",
    "\n",
    "# Create a corpus from a list of texts\n",
    "# создаем словарь из всех встречающихся в датасете слов \n",
    "common_dictionary = Dictionary(texts)\n",
    "common_corpus = [common_dictionary.doc2bow(text) for text in texts]"
   ]
  },
  {
   "cell_type": "markdown",
   "metadata": {
    "id": "hQfhjyspMIGv"
   },
   "source": [
    "Что такое common_dictionary и как он выглядит"
   ]
  },
  {
   "cell_type": "code",
   "execution_count": 146,
   "metadata": {
    "id": "MBAN3PvWMIGv"
   },
   "outputs": [
    {
     "data": {
      "text/plain": [
       "'баскетбол'"
      ]
     },
     "execution_count": 146,
     "metadata": {},
     "output_type": "execute_result"
    }
   ],
   "source": [
    "common_dictionary[5]"
   ]
  },
  {
   "cell_type": "code",
   "execution_count": 147,
   "metadata": {
    "colab": {
     "base_uri": "https://localhost:8080/"
    },
    "collapsed": true,
    "id": "aJv_IlHdmUjt",
    "jupyter": {
     "outputs_hidden": true
    },
    "outputId": "ec0a1d79-ff1f-4261-b5ac-e5e8f813e1e9"
   },
   "outputs": [
    {
     "data": {
      "text/plain": [
       "{0: 'александр',\n",
       " 1: 'алексей',\n",
       " 2: 'андрей',\n",
       " 3: 'армеец',\n",
       " 4: 'банк',\n",
       " 5: 'баскетбол',\n",
       " 6: 'близкий',\n",
       " 7: 'блок',\n",
       " 8: 'борьба',\n",
       " 9: 'ватутин',\n",
       " 10: 'взаимодействие',\n",
       " 11: 'власть',\n",
       " 12: 'войти',\n",
       " 13: 'вячеслав',\n",
       " 14: 'генералполковник',\n",
       " 15: 'генеральный',\n",
       " 16: 'георгий',\n",
       " 17: 'гмк',\n",
       " 18: 'директор',\n",
       " 19: 'европа',\n",
       " 20: 'единогласно',\n",
       " 21: 'заместитель',\n",
       " 22: 'заседание',\n",
       " 23: 'защита',\n",
       " 24: 'иванов',\n",
       " 25: 'избрать',\n",
       " 26: 'исакович',\n",
       " 27: 'клиентский',\n",
       " 28: 'клуб',\n",
       " 29: 'конституционный',\n",
       " 30: 'корпоративный',\n",
       " 31: 'леонид',\n",
       " 32: 'лопат',\n",
       " 33: 'министр',\n",
       " 34: 'мир',\n",
       " 35: 'начальник',\n",
       " 36: 'никель',\n",
       " 37: 'новак',\n",
       " 38: 'норильский',\n",
       " 39: 'оао',\n",
       " 40: 'обсуждение',\n",
       " 41: 'округ',\n",
       " 42: 'ольга',\n",
       " 43: 'ооо',\n",
       " 44: 'орган',\n",
       " 45: 'основной',\n",
       " 46: 'пбк',\n",
       " 47: 'первый',\n",
       " 48: 'перспектива',\n",
       " 49: 'планирование',\n",
       " 50: 'плешаков',\n",
       " 51: 'политика',\n",
       " 52: 'полномочный',\n",
       " 53: 'полтавец',\n",
       " 54: 'полтавченко',\n",
       " 55: 'правительство',\n",
       " 56: 'правление',\n",
       " 57: 'председатель',\n",
       " 58: 'прессслужба',\n",
       " 59: 'принять',\n",
       " 60: 'провоторов',\n",
       " 61: 'проект',\n",
       " 62: 'развитие',\n",
       " 63: 'решение',\n",
       " 64: 'ростелеком',\n",
       " 65: 'руководитель',\n",
       " 66: 'рф',\n",
       " 67: 'седов',\n",
       " 68: 'сергей',\n",
       " 69: 'служба',\n",
       " 70: 'совет',\n",
       " 71: 'состав',\n",
       " 72: 'состояние',\n",
       " 73: 'социальный',\n",
       " 74: 'спортивный',\n",
       " 75: 'стратегия',\n",
       " 76: 'строй',\n",
       " 77: 'текущий',\n",
       " 78: 'терроризм',\n",
       " 79: 'трансаэро',\n",
       " 80: 'трёхкратный',\n",
       " 81: 'ук',\n",
       " 82: 'утверждение',\n",
       " 83: 'федеральный',\n",
       " 84: 'финансы',\n",
       " 85: 'фсб',\n",
       " 86: 'функция',\n",
       " 87: 'центральный',\n",
       " 88: 'цска',\n",
       " 89: 'чемпион',\n",
       " 90: 'эксигрок',\n",
       " 91: 'ru',\n",
       " 92: 'болельщик',\n",
       " 93: 'вести',\n",
       " 94: 'взрыв',\n",
       " 95: 'выбросить',\n",
       " 96: 'газета',\n",
       " 97: 'динамовец',\n",
       " 98: 'изз',\n",
       " 99: 'команда',\n",
       " 100: 'корреспондент',\n",
       " 101: 'кромка',\n",
       " 102: 'кубок',\n",
       " 103: 'матч',\n",
       " 104: 'минута',\n",
       " 105: 'онлайнтрансляция',\n",
       " 106: 'остановить',\n",
       " 107: 'остаться',\n",
       " 108: 'передавать',\n",
       " 109: 'петарда',\n",
       " 110: 'пиротехнический',\n",
       " 111: 'подтрибунный',\n",
       " 112: 'поле',\n",
       " 113: 'помещение',\n",
       " 114: 'приостановить',\n",
       " 115: 'пять',\n",
       " 116: 'россия',\n",
       " 117: 'снаряд',\n",
       " 118: 'судья',\n",
       " 119: 'торпедовец',\n",
       " 120: 'увести',\n",
       " 121: 'уйти',\n",
       " 122: 'финал',\n",
       " 123: 'футбол',\n",
       " 124: 'авангард',\n",
       " 125: 'атланта',\n",
       " 126: 'быстрый',\n",
       " 127: 'включиться',\n",
       " 128: 'выезд',\n",
       " 129: 'гол',\n",
       " 130: 'девять',\n",
       " 131: 'заборский',\n",
       " 132: 'забросить',\n",
       " 133: 'задать',\n",
       " 134: 'игра',\n",
       " 135: 'играть',\n",
       " 136: 'кхл',\n",
       " 137: 'настраиваться',\n",
       " 138: 'нижний',\n",
       " 139: 'новгород',\n",
       " 140: 'очко',\n",
       " 141: 'плохой',\n",
       " 142: 'поединок',\n",
       " 143: 'получиться',\n",
       " 144: 'прокомментировать',\n",
       " 145: 'против',\n",
       " 146: 'сторона',\n",
       " 147: 'темп',\n",
       " 148: 'томаш',\n",
       " 149: 'торпедо',\n",
       " 150: 'форвард',\n",
       " 151: 'хороший',\n",
       " 152: 'чемпионат',\n",
       " 153: 'афолаби',\n",
       " 154: 'бальда',\n",
       " 155: 'возможно',\n",
       " 156: 'всё',\n",
       " 157: 'второй',\n",
       " 158: 'выпустить',\n",
       " 159: 'главный',\n",
       " 160: 'го',\n",
       " 161: 'дать',\n",
       " 162: 'действительно',\n",
       " 163: 'жизнь',\n",
       " 164: 'закончить',\n",
       " 165: 'замена',\n",
       " 166: 'заменить',\n",
       " 167: 'заработать',\n",
       " 168: 'заявка',\n",
       " 169: 'здорово',\n",
       " 170: 'игрок',\n",
       " 171: 'идти',\n",
       " 172: 'конец',\n",
       " 173: 'красножанин',\n",
       " 174: 'крыло',\n",
       " 175: 'кубань',\n",
       " 176: 'лидер',\n",
       " 177: 'менее',\n",
       " 178: 'момент',\n",
       " 179: 'наверное',\n",
       " 180: 'настроение',\n",
       " 181: 'немало',\n",
       " 182: 'неплохо',\n",
       " 183: 'овладевать',\n",
       " 184: 'осложнить',\n",
       " 185: 'отпускной',\n",
       " 186: 'отсюда',\n",
       " 187: 'отыграть',\n",
       " 188: 'победа',\n",
       " 189: 'подряд',\n",
       " 190: 'позиция',\n",
       " 191: 'пока',\n",
       " 192: 'понемногу',\n",
       " 193: 'попасть',\n",
       " 194: 'попов',\n",
       " 195: 'почему',\n",
       " 196: 'пребывать',\n",
       " 197: 'преимущество',\n",
       " 198: 'привыкать',\n",
       " 199: 'самоуспокоенность',\n",
       " 200: 'сезон',\n",
       " 201: 'смочь',\n",
       " 202: 'создать',\n",
       " 203: 'спокойствие',\n",
       " 204: 'статус',\n",
       " 205: 'счёт',\n",
       " 206: 'сэ',\n",
       " 207: 'требоваться',\n",
       " 208: 'тренер',\n",
       " 209: 'тур',\n",
       " 210: 'уверенно',\n",
       " 211: 'успокаиваться',\n",
       " 212: 'хотеть',\n",
       " 213: 'целое',\n",
       " 214: 'частично',\n",
       " 215: 'чувствовать',\n",
       " 216: 'юрий',\n",
       " 217: 'балан',\n",
       " 218: 'вицегубернатор',\n",
       " 219: 'вицепрезидент',\n",
       " 220: 'владивостокский',\n",
       " 221: 'владимир',\n",
       " 222: 'дальневосточный',\n",
       " 223: 'должность',\n",
       " 224: 'занимать',\n",
       " 225: 'информировать',\n",
       " 226: 'край',\n",
       " 227: 'менеджер',\n",
       " 228: 'насонов',\n",
       " 229: 'оставаться',\n",
       " 230: 'официальный',\n",
       " 231: 'попечительский',\n",
       " 232: 'попрежний',\n",
       " 233: 'пост',\n",
       " 234: 'приморский',\n",
       " 235: 'сайт',\n",
       " 236: 'сандлера',\n",
       " 237: 'спартак',\n",
       " 238: 'упразднить',\n",
       " 239: 'член',\n",
       " 240: 'эдуард',\n",
       " 241: 'буцай',\n",
       " 242: 'входить',\n",
       " 243: 'гдеть',\n",
       " 244: 'главное',\n",
       " 245: 'дневный',\n",
       " 246: 'долго',\n",
       " 247: 'дотерпеть',\n",
       " 248: 'заслуженно',\n",
       " 249: 'ио',\n",
       " 250: 'начинаться',\n",
       " 251: 'непривычный',\n",
       " 252: 'очень',\n",
       " 253: 'период',\n",
       " 254: 'плюс',\n",
       " 255: 'победить',\n",
       " 256: 'поблагодарить',\n",
       " 257: 'показать',\n",
       " 258: 'появиться',\n",
       " 259: 'правильно',\n",
       " 260: 'прежде',\n",
       " 261: 'пропустить',\n",
       " 262: 'разбежаться',\n",
       " 263: 'ребята',\n",
       " 264: 'регулярный',\n",
       " 265: 'связать',\n",
       " 266: 'сибирь',\n",
       " 267: 'скажем',\n",
       " 268: 'смена',\n",
       " 269: 'сонный',\n",
       " 270: 'третий',\n",
       " 271: 'удачно',\n",
       " 272: 'югра',\n",
       " 273: 'будник',\n",
       " 274: 'ворскла',\n",
       " 275: 'встреча',\n",
       " 276: 'голый',\n",
       " 277: 'громов',\n",
       " 278: 'дом',\n",
       " 279: 'завершиться',\n",
       " 280: 'запорожский',\n",
       " 281: 'материал',\n",
       " 282: 'металлург',\n",
       " 283: 'новость',\n",
       " 284: 'поражение',\n",
       " 285: 'посмотреть',\n",
       " 286: 'потерпеть',\n",
       " 287: 'разгромный',\n",
       " 288: 'страница',\n",
       " 289: 'украина',\n",
       " 290: 'украинский',\n",
       " 291: 'чеснаковы',\n",
       " 292: 'австрия',\n",
       " 293: 'бол',\n",
       " 294: 'бьюгстадо',\n",
       " 295: 'вельзер',\n",
       " 296: 'день',\n",
       " 297: 'джонсон',\n",
       " 298: 'иберер',\n",
       " 299: 'игровой',\n",
       " 300: 'кристо',\n",
       " 301: 'латуз',\n",
       " 302: 'леблан',\n",
       " 303: 'лукас',\n",
       " 304: 'макбэйн',\n",
       " 305: 'мосс',\n",
       " 306: 'одержать',\n",
       " 307: 'пайнтнер',\n",
       " 308: 'палушать',\n",
       " 309: 'сборная',\n",
       " 310: 'стартовый',\n",
       " 311: 'стэплтон',\n",
       " 312: 'сша',\n",
       " 313: 'фолкнуть',\n",
       " 314: 'хоккей',\n",
       " 315: 'хундертпфунда',\n",
       " 316: 'штястный',\n",
       " 317: 'шуллера',\n",
       " 318: 'больший',\n",
       " 319: 'бывший',\n",
       " 320: 'взять',\n",
       " 321: 'внести',\n",
       " 322: 'вырасти',\n",
       " 323: 'выступление',\n",
       " 324: 'дарюс',\n",
       " 325: 'защитник',\n",
       " 326: 'илья',\n",
       " 327: 'илюха',\n",
       " 328: 'каспарайтис',\n",
       " 329: 'качество',\n",
       " 330: 'ковальчук',\n",
       " 331: 'латвия',\n",
       " 332: 'малкин',\n",
       " 333: 'национальный',\n",
       " 334: 'ожидание',\n",
       " 335: 'ознакомиться',\n",
       " 336: 'поделиться',\n",
       " 337: 'пойти',\n",
       " 338: 'последний',\n",
       " 339: 'потрясающе',\n",
       " 340: 'прошлый',\n",
       " 341: 'сильно',\n",
       " 342: 'статистика',\n",
       " 343: 'выиграть',\n",
       " 344: 'данил',\n",
       " 345: 'делать',\n",
       " 346: 'добиться',\n",
       " 347: 'думать',\n",
       " 348: 'жиляев',\n",
       " 349: 'завтра',\n",
       " 350: 'зоран',\n",
       " 351: 'известно',\n",
       " 352: 'исполниться',\n",
       " 353: 'капитан',\n",
       " 354: 'касаться',\n",
       " 355: 'крупный',\n",
       " 356: 'надеяться',\n",
       " 357: 'подарок',\n",
       " 358: 'пожелать',\n",
       " 359: 'полузащитник',\n",
       " 360: 'произнести',\n",
       " 361: 'просто',\n",
       " 362: 'речь',\n",
       " 363: 'сделать',\n",
       " 364: 'сербский',\n",
       " 365: 'серьёзный',\n",
       " 366: 'слуцкий',\n",
       " 367: 'терек',\n",
       " 368: 'тошич',\n",
       " 369: 'травма',\n",
       " 370: 'удачный',\n",
       " 371: 'ушибить',\n",
       " 372: 'характер',\n",
       " 373: 'хромать',\n",
       " 374: 'чемпионство',\n",
       " 375: 'шаг',\n",
       " 376: 'барселона',\n",
       " 377: 'бетис',\n",
       " 378: 'вальдес',\n",
       " 379: 'виктор',\n",
       " 380: 'воспаление',\n",
       " 381: 'вратарь',\n",
       " 382: 'испания',\n",
       " 383: 'каталонец',\n",
       " 384: 'кость',\n",
       " 385: 'левый',\n",
       " 386: 'нога',\n",
       " 387: 'подошвенный',\n",
       " 388: 'стопа',\n",
       " 389: 'фасциит',\n",
       " 390: 'анастасия',\n",
       " 391: 'испанка',\n",
       " 392: 'карл',\n",
       " 393: 'обыграть',\n",
       " 394: 'оэйраша',\n",
       " 395: 'павлюченков',\n",
       " 396: 'победительница',\n",
       " 397: 'призовой',\n",
       " 398: 'решающий',\n",
       " 399: 'россиянка',\n",
       " 400: 'суареснаварро',\n",
       " 401: 'теннис',\n",
       " 402: 'турнир',\n",
       " 403: 'тыс',\n",
       " 404: 'фонд',\n",
       " 405: 'анжи',\n",
       " 406: 'бедро',\n",
       " 407: 'вернуться',\n",
       " 408: 'волга',\n",
       " 409: 'задний',\n",
       " 410: 'ивуариец',\n",
       " 411: 'казанский',\n",
       " 412: 'лассина',\n",
       " 413: 'махачкала',\n",
       " 414: 'нападать',\n",
       " 415: 'общий',\n",
       " 416: 'поверхность',\n",
       " 417: 'премьерлига',\n",
       " 418: 'рамка',\n",
       " 419: 'российский',\n",
       " 420: 'рубин',\n",
       " 421: 'траор',\n",
       " 422: 'тренировка',\n",
       " 423: 'бохара',\n",
       " 424: 'железнодорожник',\n",
       " 425: 'завершить',\n",
       " 426: 'касейдо',\n",
       " 427: 'контрольный',\n",
       " 428: 'кучук',\n",
       " 429: 'локомотив',\n",
       " 430: 'марибора',\n",
       " 431: 'местный',\n",
       " 432: 'металлист',\n",
       " 433: 'московский',\n",
       " 434: 'подопечный',\n",
       " 435: 'предупреждеие',\n",
       " 436: 'проиграть',\n",
       " 437: 'сбор',\n",
       " 438: 'следующий',\n",
       " 439: 'словения',\n",
       " 440: 'соперник',\n",
       " 441: 'таварес',\n",
       " 442: 'торбинский',\n",
       " 443: 'учебнотренировочный',\n",
       " 444: 'харьковский',\n",
       " 445: 'хорватский',\n",
       " 446: 'atp',\n",
       " 447: 'важный',\n",
       " 448: 'возраст',\n",
       " 449: 'возрастной',\n",
       " 450: 'вокруг',\n",
       " 451: 'вообще',\n",
       " 452: 'врач',\n",
       " 453: 'далёкий',\n",
       " 454: 'действовать',\n",
       " 455: 'джокович',\n",
       " 456: 'достаточно',\n",
       " 457: 'желание',\n",
       " 458: 'круг',\n",
       " 459: 'мнение',\n",
       " 460: 'множество',\n",
       " 461: 'мудрость',\n",
       " 462: 'начинать',\n",
       " 463: 'немец',\n",
       " 464: 'нужно',\n",
       " 465: 'оно',\n",
       " 466: 'опыт',\n",
       " 467: 'оценивать',\n",
       " 468: 'питание',\n",
       " 469: 'позволять',\n",
       " 470: 'понимать',\n",
       " 471: 'правило',\n",
       " 472: 'правильный',\n",
       " 473: 'приводить',\n",
       " 474: 'ракетка',\n",
       " 475: 'сила',\n",
       " 476: 'собирать',\n",
       " 477: 'согласно',\n",
       " 478: 'специалист',\n",
       " 479: 'существовать',\n",
       " 480: 'сыграть',\n",
       " 481: 'теннисист',\n",
       " 482: 'ти',\n",
       " 483: 'томми',\n",
       " 484: 'трезво',\n",
       " 485: 'уимблдон',\n",
       " 486: 'успех',\n",
       " 487: 'фактор',\n",
       " 488: 'физиотерапевт',\n",
       " 489: 'форма',\n",
       " 490: 'хаас',\n",
       " 491: 'четвёртый',\n",
       " 492: 'гомис',\n",
       " 493: 'груда',\n",
       " 494: 'дюмерс',\n",
       " 495: 'женский',\n",
       " 496: 'литтл',\n",
       " 497: 'место',\n",
       " 498: 'одолеть',\n",
       " 499: 'орша',\n",
       " 500: 'сербия',\n",
       " 501: 'торренс',\n",
       " 502: 'турция',\n",
       " 503: 'франция',\n",
       " 504: 'французский',\n",
       " 505: 'шаргай',\n",
       " 506: 'cbs',\n",
       " 507: 'агент',\n",
       " 508: 'айлендерс',\n",
       " 509: 'взамен',\n",
       " 510: 'выбрать',\n",
       " 511: 'драфт',\n",
       " 512: 'клаттербак',\n",
       " 513: 'количество',\n",
       " 514: 'контракт',\n",
       " 515: 'кэла',\n",
       " 516: 'летний',\n",
       " 517: 'миннесота',\n",
       " 518: 'минувший',\n",
       " 519: 'молодой',\n",
       " 520: 'набрать',\n",
       " 521: 'нидеррайтер',\n",
       " 522: 'нино',\n",
       " 523: 'новый',\n",
       " 524: 'номер',\n",
       " 525: 'нхл',\n",
       " 526: 'обменять',\n",
       " 527: 'ограниченно',\n",
       " 528: 'островитянин',\n",
       " 529: 'переходить',\n",
       " 530: 'поэтому',\n",
       " 531: 'приём',\n",
       " 532: 'пятый',\n",
       " 533: 'свободный',\n",
       " 534: 'силовой',\n",
       " 535: 'jcom',\n",
       " 536: 'активный',\n",
       " 537: 'бродый',\n",
       " 538: 'ванкувер',\n",
       " 539: 'выбор',\n",
       " 540: 'голкипер',\n",
       " 541: 'девятый',\n",
       " 542: 'дьявол',\n",
       " 543: 'завершение',\n",
       " 544: 'итоговый',\n",
       " 545: 'канадский',\n",
       " 546: 'карьера',\n",
       " 547: 'корь',\n",
       " 548: 'кэнакс',\n",
       " 549: 'луонго',\n",
       " 550: 'мартин',\n",
       " 551: 'многоопытный',\n",
       " 552: 'найти',\n",
       " 553: 'ньюджерси',\n",
       " 554: 'обмен',\n",
       " 555: 'покинуть',\n",
       " 556: 'призвать',\n",
       " 557: 'пристанище',\n",
       " 558: 'раунд',\n",
       " 559: 'роберто',\n",
       " 560: 'солидный',\n",
       " 561: 'удаться',\n",
       " 562: 'шнайдер',\n",
       " 563: 'sportsru',\n",
       " 564: 'аккуратный',\n",
       " 565: 'беспокоить',\n",
       " 566: 'большой',\n",
       " 567: 'видеть',\n",
       " 568: 'десять',\n",
       " 569: 'динамо',\n",
       " 570: 'достойно',\n",
       " 571: 'заслуживать',\n",
       " 572: 'зенит',\n",
       " 573: 'киевлянин',\n",
       " 574: 'киевский',\n",
       " 575: 'кондиция',\n",
       " 576: 'лучано',\n",
       " 577: 'мешать',\n",
       " 578: 'назад',\n",
       " 579: 'например',\n",
       " 580: 'начать',\n",
       " 581: 'неприятно',\n",
       " 582: 'объединить',\n",
       " 583: 'отличие',\n",
       " 584: 'подготовка',\n",
       " 585: 'проигрывать',\n",
       " 586: 'происходить',\n",
       " 587: 'ранний',\n",
       " 588: 'семь',\n",
       " 589: 'спаллетти',\n",
       " 590: 'сражаться',\n",
       " 591: 'травмироваться',\n",
       " 592: 'увидеть',\n",
       " 593: 'улучшение',\n",
       " 594: 'физический',\n",
       " 595: 'хотя',\n",
       " 596: 'широков',\n",
       " 597: 'алвес',\n",
       " 598: 'альба',\n",
       " 599: 'арбелоа',\n",
       " 600: 'бразилия',\n",
       " 601: 'бразильский',\n",
       " 602: 'бускетс',\n",
       " 603: 'давид',\n",
       " 604: 'дань',\n",
       " 605: 'жулио',\n",
       " 606: 'иньест',\n",
       " 607: 'касильяс',\n",
       " 608: 'конфедерация',\n",
       " 609: 'луис',\n",
       " 610: 'маракан',\n",
       " 611: 'марио',\n",
       " 612: 'марсесть',\n",
       " 613: 'мат',\n",
       " 614: 'мск',\n",
       " 615: 'неймара',\n",
       " 616: 'оскар',\n",
       " 617: 'паулиньо',\n",
       " 618: 'педро',\n",
       " 619: 'пик',\n",
       " 620: 'прямой',\n",
       " 621: 'рамос',\n",
       " 622: 'риодежанейро',\n",
       " 623: 'сезара',\n",
       " 624: 'силва',\n",
       " 625: 'состояться',\n",
       " 626: 'стадион',\n",
       " 627: 'текстовый',\n",
       " 628: 'торрес',\n",
       " 629: 'тьяго',\n",
       " 630: 'филья',\n",
       " 631: 'финальный',\n",
       " 632: 'фред',\n",
       " 633: 'хавить',\n",
       " 634: 'халк',\n",
       " 635: 'эрнанести',\n",
       " 636: 'абсолютный',\n",
       " 637: 'ажиотаж',\n",
       " 638: 'алла',\n",
       " 639: 'борисович',\n",
       " 640: 'вид',\n",
       " 641: 'владелец',\n",
       " 642: 'выразить',\n",
       " 643: 'высказывание',\n",
       " 644: 'газзаев',\n",
       " 645: 'господин',\n",
       " 646: 'дабы',\n",
       " 647: 'деньга',\n",
       " 648: 'дорогой',\n",
       " 649: 'зато',\n",
       " 650: 'идея',\n",
       " 651: 'иностранец',\n",
       " 652: 'легионер',\n",
       " 653: 'лимит',\n",
       " 654: 'любимый',\n",
       " 655: 'намерить',\n",
       " 656: 'несерьёзно',\n",
       " 657: 'никто',\n",
       " 658: 'оба',\n",
       " 659: 'объединение',\n",
       " 660: 'организатор',\n",
       " 661: 'оргкомитет',\n",
       " 662: 'относительно',\n",
       " 663: 'перестать',\n",
       " 664: 'петь',\n",
       " 665: 'позитив',\n",
       " 666: 'построение',\n",
       " 667: 'потерять',\n",
       " 668: 'предлагать',\n",
       " 669: 'привести',\n",
       " 670: 'принцип',\n",
       " 671: 'приобрести',\n",
       " 672: 'приходить',\n",
       " 673: 'проводить',\n",
       " 674: 'произойти',\n",
       " 675: 'проституировать',\n",
       " 676: 'противоречить',\n",
       " 677: 'прямо',\n",
       " 678: 'пугачёв',\n",
       " 679: 'пусть',\n",
       " 680: 'разговор',\n",
       " 681: 'рфс',\n",
       " 682: 'свидетельствовать',\n",
       " 683: 'свобода',\n",
       " 684: 'скорее',\n",
       " 685: 'собираться',\n",
       " 686: 'советский',\n",
       " 687: 'спасение',\n",
       " 688: 'спорт',\n",
       " 689: 'сразу',\n",
       " 690: 'стороженко',\n",
       " 691: 'сторонник',\n",
       " 692: 'тонуть',\n",
       " 693: 'тысяча',\n",
       " 694: 'убийство',\n",
       " 695: 'уничтожение',\n",
       " 696: 'федерация',\n",
       " 697: 'ффу',\n",
       " 698: 'ходить',\n",
       " 699: 'черта',\n",
       " 700: 'юношеский',\n",
       " 701: 'бегать',\n",
       " 702: 'блохин',\n",
       " 703: 'временами',\n",
       " 704: 'всетаки',\n",
       " 705: 'вчера',\n",
       " 706: 'выглядеть',\n",
       " 707: 'зритель',\n",
       " 708: 'километраж',\n",
       " 709: 'маленький',\n",
       " 710: 'меняться',\n",
       " 711: 'нагрузка',\n",
       " 712: 'нужный',\n",
       " 713: 'объём',\n",
       " 714: 'олег',\n",
       " 715: 'план',\n",
       " 716: 'поехать',\n",
       " 717: 'поздравлять',\n",
       " 718: 'показывать',\n",
       " 719: 'покупать',\n",
       " 720: 'проявлять',\n",
       " 721: 'роль',\n",
       " 722: 'сбрасывать',\n",
       " 723: 'ставить',\n",
       " 724: 'столько',\n",
       " 725: 'стремиться',\n",
       " 726: 'тактика',\n",
       " 727: 'тяжёлый',\n",
       " 728: 'украинец',\n",
       " 729: 'уровень',\n",
       " 730: 'усталость',\n",
       " 731: 'установка',\n",
       " 732: 'чемуть',\n",
       " 733: 'анатолий',\n",
       " 734: 'аршавин',\n",
       " 735: 'аршавино',\n",
       " 736: 'безнадёжно',\n",
       " 737: 'бойцовский',\n",
       " 738: 'видно',\n",
       " 739: 'возвращение',\n",
       " 740: 'впечатление',\n",
       " 741: 'вряд',\n",
       " 742: 'встретить',\n",
       " 743: 'довольный',\n",
       " 744: 'дух',\n",
       " 745: 'знакомство',\n",
       " 746: 'мастерство',\n",
       " 747: 'набирать',\n",
       " 748: 'начаться',\n",
       " 749: 'небольшой',\n",
       " 750: 'некоторый',\n",
       " 751: 'никуда',\n",
       " 752: 'опытный',\n",
       " 753: 'положительный',\n",
       " 754: 'понятно',\n",
       " 755: 'приятно',\n",
       " 756: 'проблема',\n",
       " 757: 'профессионализм',\n",
       " 758: 'реакция',\n",
       " 759: 'русский',\n",
       " 760: 'тимощука',\n",
       " 761: 'удача',\n",
       " 762: 'уста',\n",
       " 763: 'человеческий',\n",
       " 764: 'возвращаться',\n",
       " 765: 'впереди',\n",
       " 766: 'вывод',\n",
       " 767: 'жаль',\n",
       " 768: 'заметно',\n",
       " 769: 'ломбертс',\n",
       " 770: 'мяч',\n",
       " 771: 'неплохой',\n",
       " 772: 'непросто',\n",
       " 773: 'николас',\n",
       " 774: 'особенно',\n",
       " 775: 'отдавать',\n",
       " 776: 'отличный',\n",
       " 777: 'половина',\n",
       " 778: 'свежий',\n",
       " 779: 'старт',\n",
       " 780: 'стоить',\n",
       " 781: 'тайм',\n",
       " 782: 'тренироваться',\n",
       " 783: 'тренировочный',\n",
       " 784: 'устать',\n",
       " 785: 'футболист',\n",
       " 786: 'частый',\n",
       " 787: 'atio',\n",
       " 788: 'sb',\n",
       " 789: 'америка',\n",
       " 790: 'амрия',\n",
       " 791: 'баффало',\n",
       " 792: 'выступать',\n",
       " 793: 'задор',\n",
       " 794: 'затем',\n",
       " 795: 'красный',\n",
       " 796: 'лига',\n",
       " 797: 'лондон',\n",
       " 798: 'мхл',\n",
       " 799: 'найтс',\n",
       " 800: 'никита',\n",
       " 801: 'новичок',\n",
       " 802: 'онтарио',\n",
       " 803: 'северный',\n",
       " 804: 'уехать',\n",
       " 805: 'хоккеист',\n",
       " 806: 'хоккейный',\n",
       " 807: 'аплодировать',\n",
       " 808: 'армянский',\n",
       " 809: 'бавария',\n",
       " 810: 'биться',\n",
       " 811: 'бомбардир',\n",
       " 812: 'генрих',\n",
       " 813: 'горняк',\n",
       " 814: 'действие',\n",
       " 815: 'демонстрировать',\n",
       " 816: 'донецкий',\n",
       " 817: 'забивать',\n",
       " 818: 'заявление',\n",
       " 819: 'иной',\n",
       " 820: 'исчезнуть',\n",
       " 821: 'каждый',\n",
       " 822: 'какиеть',\n",
       " 823: 'комментировать',\n",
       " 824: 'ливерпуль',\n",
       " 825: 'лучёска',\n",
       " 826: 'мадридский',\n",
       " 827: 'менять',\n",
       " 828: 'мирча',\n",
       " 829: 'мхитарян',\n",
       " 830: 'опуститься',\n",
       " 831: 'остальной',\n",
       " 832: 'отпуск',\n",
       " 833: 'оценить',\n",
       " 834: 'ошибка',\n",
       " 835: 'переговоры',\n",
       " 836: 'переход',\n",
       " 837: 'подумать',\n",
       " 838: 'помогать',\n",
       " 839: 'понять',\n",
       " 840: 'появляться',\n",
       " 841: 'превосходить',\n",
       " 842: 'призывать',\n",
       " 843: 'продлить',\n",
       " 844: 'реал',\n",
       " 845: 'редко',\n",
       " 846: 'руководство',\n",
       " 847: 'самовольно',\n",
       " 848: 'сильный',\n",
       " 849: 'совершать',\n",
       " 850: 'спина',\n",
       " 851: 'травмировать',\n",
       " 852: 'хотеться',\n",
       " 853: 'шахтёр',\n",
       " 854: 'штрафной',\n",
       " 855: 'бельханда',\n",
       " 856: 'вживую',\n",
       " 857: 'впервые',\n",
       " 858: 'джермейн',\n",
       " 859: 'добавить',\n",
       " 860: 'дьемерси',\n",
       " 861: 'интересно',\n",
       " 862: 'интересный',\n",
       " 863: 'краска',\n",
       " 864: 'ленс',\n",
       " 865: 'мбокани',\n",
       " 866: 'официально',\n",
       " 867: 'перерыв',\n",
       " 868: 'представить',\n",
       " 869: 'юнести',\n",
       " 870: 'адам',\n",
       " 871: 'аз',\n",
       " 872: 'аякс',\n",
       " 873: 'вицечемпион',\n",
       " 874: 'голландия',\n",
       " 875: 'достигнуть',\n",
       " 876: 'забить',\n",
       " 877: 'заинтересованный',\n",
       " 878: 'махер',\n",
       " 879: 'молодёжный',\n",
       " 880: 'отдать',\n",
       " 881: 'передача',\n",
       " 882: 'подписать',\n",
       " 883: 'помимо',\n",
       " 884: 'принципиальный',\n",
       " 885: 'псв',\n",
       " 886: 'рассчитать',\n",
       " 887: 'результативный',\n",
       " 888: 'соглашение',\n",
       " 889: 'трансфер',\n",
       " 890: 'выкладываться',\n",
       " 891: 'выходить',\n",
       " 892: 'забывать',\n",
       " 893: 'качественный',\n",
       " 894: 'концентрация',\n",
       " 895: 'любой',\n",
       " 896: 'могилевец',\n",
       " 897: 'независимо',\n",
       " 898: 'неофициальный',\n",
       " 899: 'новинка',\n",
       " 900: 'обидно',\n",
       " 901: 'павел',\n",
       " 902: 'правда',\n",
       " 903: 'прийти',\n",
       " 904: 'реализация',\n",
       " 905: 'соревнование',\n",
       " 906: 'стараться',\n",
       " 907: 'сто',\n",
       " 908: 'хватить',\n",
       " 909: 'шанс',\n",
       " 910: 'эмоция',\n",
       " 911: 'значит',\n",
       " 912: 'полный',\n",
       " 913: 'преддрафтовый',\n",
       " 914: 'признаться',\n",
       " 915: 'равно',\n",
       " 916: 'страшный',\n",
       " 917: 'сюрприз',\n",
       " 918: 'тест',\n",
       " 919: 'торонто',\n",
       " 920: 'yahoosports',\n",
       " 921: 'будущее',\n",
       " 922: 'вариант',\n",
       " 923: 'возможный',\n",
       " 924: 'гиллис',\n",
       " 925: 'движение',\n",
       " 926: 'именно',\n",
       " 927: 'искать',\n",
       " 928: 'курс',\n",
       " 929: 'майк',\n",
       " 930: 'молодёжь',\n",
       " 931: 'необходимо',\n",
       " 932: 'перспективный',\n",
       " 933: 'постоянно',\n",
       " 934: 'постоянный',\n",
       " 935: 'предложение',\n",
       " 936: 'прекрасный',\n",
       " 937: 'приспосабливаться',\n",
       " 938: 'причина',\n",
       " 939: 'различный',\n",
       " 940: 'рассматривать',\n",
       " 941: 'рынок',\n",
       " 942: 'случиться',\n",
       " 943: 'слушать',\n",
       " 944: 'событие',\n",
       " 945: 'трансферный',\n",
       " 946: 'уверенный',\n",
       " 947: 'чтоть',\n",
       " 948: 'балл',\n",
       " 949: 'джей',\n",
       " 950: 'дженять',\n",
       " 951: 'заполучить',\n",
       " 952: 'использовать',\n",
       " 953: 'каролина',\n",
       " 954: 'клинок',\n",
       " 955: 'комфер',\n",
       " 956: 'направление',\n",
       " 957: 'обратный',\n",
       " 958: 'право',\n",
       " 959: 'проследовать',\n",
       " 960: 'секер',\n",
       " 961: 'блэкхоукс',\n",
       " 962: 'болланд',\n",
       " 963: 'двукратный',\n",
       " 964: 'дэйв',\n",
       " 965: 'нынешний',\n",
       " 966: 'обладатель',\n",
       " 967: 'плейофф',\n",
       " 968: 'присоединиться',\n",
       " 969: 'стэнли',\n",
       " 970: 'чикаго',\n",
       " 971: 'чикагский',\n",
       " 972: 'twitter',\n",
       " 973: 'австрийский',\n",
       " 974: 'выходной',\n",
       " 975: 'дагестанский',\n",
       " 976: 'денисов',\n",
       " 977: 'игорь',\n",
       " 978: 'ирднинга',\n",
       " 979: 'леоганг',\n",
       " 980: 'махачкалинский',\n",
       " 981: 'окончание',\n",
       " 982: 'прибыть',\n",
       " 983: 'расположение',\n",
       " 984: 'согласовать',\n",
       " 985: 'условие',\n",
       " 986: 'эксполузащитник',\n",
       " 987: 'болеть',\n",
       " 988: 'буффон',\n",
       " 989: 'вратарский',\n",
       " 990: 'дасаев',\n",
       " 991: 'детство',\n",
       " 992: 'кан',\n",
       " 993: 'коллега',\n",
       " 994: 'нигматуллин',\n",
       " 995: 'нравиться',\n",
       " 996: 'оливер',\n",
       " 997: 'очередь',\n",
       " 998: 'рыжик',\n",
       " 999: 'симпатизировать',\n",
       " ...}"
      ]
     },
     "execution_count": 147,
     "metadata": {},
     "output_type": "execute_result"
    }
   ],
   "source": [
    "common_dictionary.id2token"
   ]
  },
  {
   "cell_type": "markdown",
   "metadata": {
    "id": "YKkuzl96nZ4f"
   },
   "source": [
    "Делаем BoW по списку слов"
   ]
  },
  {
   "cell_type": "code",
   "execution_count": 148,
   "metadata": {
    "colab": {
     "base_uri": "https://localhost:8080/"
    },
    "id": "QAalxqanm95I",
    "outputId": "cc37e9d5-91ad-4d43-b51a-e6c6e51737da"
   },
   "outputs": [
    {
     "data": {
      "text/plain": [
       "[(5, 2), (135645, 1), (135646, 1)]"
      ]
     },
     "execution_count": 148,
     "metadata": {},
     "output_type": "execute_result"
    }
   ],
   "source": [
    "common_dictionary.doc2bow(['баскетбол' ,'баскетбол' ,'наше', 'все'], allow_update=True)"
   ]
  },
  {
   "cell_type": "code",
   "execution_count": 149,
   "metadata": {
    "colab": {
     "base_uri": "https://localhost:8080/"
    },
    "id": "JSf5rfLjROW7",
    "outputId": "20b85d56-6822-4b58-cdc0-03d8214dbc7d"
   },
   "outputs": [
    {
     "data": {
      "text/plain": [
       "(0, 2)"
      ]
     },
     "execution_count": 149,
     "metadata": {},
     "output_type": "execute_result"
    }
   ],
   "source": [
    "common_corpus[0][0]"
   ]
  },
  {
   "cell_type": "code",
   "execution_count": 150,
   "metadata": {
    "colab": {
     "base_uri": "https://localhost:8080/"
    },
    "id": "mcQAiY4kRlAW",
    "outputId": "6d17a1f2-90de-4604-e324-ff269bb248d0"
   },
   "outputs": [
    {
     "data": {
      "text/plain": [
       "113"
      ]
     },
     "execution_count": 150,
     "metadata": {},
     "output_type": "execute_result"
    }
   ],
   "source": [
    "len(texts[0])"
   ]
  },
  {
   "cell_type": "markdown",
   "metadata": {
    "id": "jrkMUNueMIGv"
   },
   "source": [
    "Все просто - это словарь наших слов"
   ]
  },
  {
   "cell_type": "markdown",
   "metadata": {
    "id": "LksYgmAqMIGw"
   },
   "source": [
    "Запускаем обучение"
   ]
  },
  {
   "cell_type": "code",
   "execution_count": 243,
   "metadata": {
    "id": "vcBROvtBkGix"
   },
   "outputs": [],
   "source": [
    "N_topic = 20 # число тем - гиперпараметр"
   ]
  },
  {
   "cell_type": "code",
   "execution_count": 244,
   "metadata": {
    "colab": {
     "base_uri": "https://localhost:8080/"
    },
    "id": "xtKgOLXzMIGw",
    "outputId": "9bafd9b7-7958-4dff-a2c3-b03a383e1280"
   },
   "outputs": [
    {
     "name": "stdout",
     "output_type": "stream",
     "text": [
      "CPU times: user 1min 34s, sys: 5.17 s, total: 1min 39s\n",
      "Wall time: 1min 17s\n"
     ]
    }
   ],
   "source": [
    "%%time\n",
    "from gensim.models import LdaModel\n",
    "# Train the model on the corpus.\n",
    "# модель, которая делает разбивку по темам \n",
    "lda = LdaModel(common_corpus, num_topics=N_topic, id2word=common_dictionary)#, passes=10)"
   ]
  },
  {
   "cell_type": "code",
   "execution_count": 245,
   "metadata": {
    "id": "IyVZ-spdMIGx"
   },
   "outputs": [],
   "source": [
    "from gensim.test.utils import datapath\n",
    "# Save model to disk.\n",
    "temp_file = datapath(\"model.lda\")\n",
    "lda.save(temp_file)\n",
    "\n",
    "# Load a potentially pretrained model from disk.\n",
    "lda = LdaModel.load(temp_file)"
   ]
  },
  {
   "cell_type": "markdown",
   "metadata": {
    "id": "ZshpqNKwMIGx"
   },
   "source": [
    "Обучили модель. Теперь 2 вопроса:\n",
    "\n",
    "1. как выглядят наши темы\n",
    "2. как получить для документа вектор значений (вероятности принадлежности каждой теме)"
   ]
  },
  {
   "cell_type": "code",
   "execution_count": 246,
   "metadata": {
    "colab": {
     "base_uri": "https://localhost:8080/"
    },
    "id": "-stkuTDxMIGy",
    "outputId": "a38a6e08-f60a-4293-ae88-7015eb12f8a7"
   },
   "outputs": [
    {
     "name": "stdout",
     "output_type": "stream",
     "text": [
      "['форвард', 'авангард', 'томаш', 'заборский', 'прокомментировать', 'игра', 'команда', 'матч', 'чемпионат', 'кхл', 'против', 'атланта', 'плохой', 'матч', 'нижний', 'новгород', 'против', 'торпедо', 'настраиваться', 'первый', 'минута', 'включиться', 'заборский', 'получиться', 'забросить', 'быстрый', 'гол', 'задать', 'хороший', 'темп', 'поединок', 'играть', 'хороший', 'сторона', 'пять', 'очко', 'выезд', 'девять', 'хороший']\n"
     ]
    },
    {
     "data": {
      "text/plain": [
       "[(3, 0.0978226),\n",
       " (4, 0.1006992),\n",
       " (5, 0.10956542),\n",
       " (8, 0.0318433),\n",
       " (10, 0.6133451),\n",
       " (17, 0.027657432)]"
      ]
     },
     "execution_count": 246,
     "metadata": {},
     "output_type": "execute_result"
    }
   ],
   "source": [
    "# Create a new corpus, made of previously unseen documents.\n",
    "other_texts = [t for t in news['title'].iloc[:3]]\n",
    "other_corpus = [common_dictionary.doc2bow(text) for text in other_texts]\n",
    "\n",
    "unseen_doc = other_corpus[2]\n",
    "print(other_texts[2])\n",
    "lda[unseen_doc] "
   ]
  },
  {
   "cell_type": "code",
   "execution_count": 247,
   "metadata": {
    "colab": {
     "base_uri": "https://localhost:8080/"
    },
    "id": "Bbxd48b_MIGz",
    "outputId": "0309f0a1-4c9f-49b3-8da1-5ad0b91575e9"
   },
   "outputs": [
    {
     "name": "stdout",
     "output_type": "stream",
     "text": [
      "topic_0: россия российский млрд исследование земля система глава вопрос ракета правительство путин экономика журнал цена всё\n",
      "topic_1: сектор кожа перевод резерв египетский работодатель зампред предмет fo святой методика законодательство этаж парижский училище\n",
      "topic_2: рейтинг особенность ученик место балл поражать моделирование строчка школьный третий занять forbes иркутск расположиться преобладать\n",
      "topic_3: украина россия снижение банк киев украинский ребёнок решение восток санкция спрос египет всё первый обвинение\n",
      "topic_4: автор научный большой возраст проверка всё продукция топливо последний очень специалист земля кровь мир первый\n",
      "topic_5: обращение налог звезда треть сенатор остаток брюссель надёжный горизонт сестра звёздный римский химия репутация оперативно\n",
      "topic_6: фонд украина всё ребёнок наука университет эксперт новый россия украинский объём увеличение исследование жизнь иметь\n",
      "topic_7: рубль статья рост тыс население писать научный млн доллар эксперт вырасти месяц размер исследование доход\n",
      "topic_8: мышь лётчик пилот арбитраж какиелибо просрочить узбекистан кинг обстоять летучий отреагировать перехват крыло акула сингапур\n",
      "topic_9: военный американский россия банк российский часть армия район новый запуск сша первый около помощь действие\n",
      "topic_10: взрыв дыра хороший солнце команда дождь журнал атмосферный миссия место масса первый фаза игра планета\n",
      "topic_11: жизнь семья умереть общество предприниматель помещение жена гора медведев кремль письмо курение скончаться стресс зуб\n",
      "topic_12: министерство иран террорист законопроект поправка ндс боевик налоговый учебный специальный объект казахстан операция киргизия автомобиль\n",
      "topic_13: погибнуть сша млн рынок санкция новый рак первый продажа цена германия специальный производитель турецкий конкурс\n",
      "topic_14: сотрудник мужчина обнаружить женщина тело сша установить место источник москва данные день поверхность врач помощь\n",
      "topic_15: газ день северный всё первый большой температура открытие сша век часть очень советский южный новый\n",
      "topic_16: смерть почва сердце сон балтийский жир дикий достопримечательность рисунок корзина фунт савченко датский тело мастеркласс\n",
      "topic_17: лечение эффективность производить оплата депутат двигатель устойчивый лауреат грант компьютерный звание следствие музыка диск грузия\n",
      "topic_18: проект новый строительство область торговый развитие инвестиция центр участок разработка медведев программа памятник площадь планироваться\n",
      "topic_19: космос аэропорт рейс необычный статья таиланд писать сбить экипаж выдавать студия терминал россиянин вылет приземлиться\n"
     ]
    }
   ],
   "source": [
    "x=lda.show_topics(num_topics=N_topic, num_words=15,formatted=False)\n",
    "topics_words = [(tp[0], [wd[0] for wd in tp[1]]) for tp in x]\n",
    "\n",
    "#Below Code Prints Only Words \n",
    "for topic,words in topics_words:\n",
    "    print(\"topic_{}: \".format(topic)+\" \".join(words))"
   ]
  },
  {
   "cell_type": "markdown",
   "metadata": {
    "id": "gBlxgTZoMIG0"
   },
   "source": [
    "Очень неплохо - большинство тем вполне можно описать о чем они\n",
    "\n",
    "\n",
    "построим темы "
   ]
  },
  {
   "cell_type": "code",
   "execution_count": 248,
   "metadata": {
    "colab": {
     "base_uri": "https://localhost:8080/"
    },
    "id": "1vbGV31OtHHx",
    "outputId": "97e72642-7aa5-4c41-bad9-5a468f459a07"
   },
   "outputs": [
    {
     "data": {
      "text/plain": [
       "['ио',\n",
       " 'главное',\n",
       " 'тренер',\n",
       " 'вячеслав',\n",
       " 'буцай',\n",
       " 'прокомментировать',\n",
       " 'победа',\n",
       " 'югра',\n",
       " 'матч',\n",
       " 'регулярный',\n",
       " 'чемпионат',\n",
       " 'кхл',\n",
       " 'прежде',\n",
       " 'хотеть',\n",
       " 'поблагодарить',\n",
       " 'ребята',\n",
       " 'команда',\n",
       " 'передавать',\n",
       " 'официальный',\n",
       " 'сайт',\n",
       " 'югра',\n",
       " 'игра',\n",
       " 'начинаться',\n",
       " 'очень',\n",
       " 'удачно',\n",
       " 'пропустить',\n",
       " 'гол',\n",
       " 'первый',\n",
       " 'смена',\n",
       " 'долго',\n",
       " 'входить',\n",
       " 'игра',\n",
       " 'связать',\n",
       " 'дневный',\n",
       " 'матч',\n",
       " 'непривычный',\n",
       " 'плюс',\n",
       " 'третий',\n",
       " 'матч',\n",
       " 'сибирь',\n",
       " 'гдеть',\n",
       " 'ребята',\n",
       " 'чувствовать',\n",
       " 'скажем',\n",
       " 'сонный',\n",
       " 'второй',\n",
       " 'третий',\n",
       " 'период',\n",
       " 'показать',\n",
       " 'разбежаться',\n",
       " 'играть',\n",
       " 'правильно',\n",
       " 'появиться',\n",
       " 'момент',\n",
       " 'дотерпеть',\n",
       " 'заслуженно',\n",
       " 'победить']"
      ]
     },
     "execution_count": 248,
     "metadata": {},
     "output_type": "execute_result"
    }
   ],
   "source": [
    "news['title'].iloc[5]"
   ]
  },
  {
   "cell_type": "code",
   "execution_count": 249,
   "metadata": {
    "colab": {
     "base_uri": "https://localhost:8080/"
    },
    "id": "NzIVpjbQsK_8",
    "outputId": "7bb1fb56-82e8-4aee-e9cf-698a8dc54516"
   },
   "outputs": [
    {
     "data": {
      "text/plain": [
       "[(10, 0.4500587), (14, 0.51872826)]"
      ]
     },
     "execution_count": 249,
     "metadata": {},
     "output_type": "execute_result"
    }
   ],
   "source": [
    "lda[common_dictionary.doc2bow(news['title'].iloc[10])]"
   ]
  },
  {
   "cell_type": "markdown",
   "metadata": {
    "id": "ZqB953kTMIG0"
   },
   "source": [
    "Давайте напишем функцию, которая будет нам возвращать векторное представление новости"
   ]
  },
  {
   "cell_type": "code",
   "execution_count": 250,
   "metadata": {
    "id": "dKAc5hiVMIG1"
   },
   "outputs": [],
   "source": [
    "#text = news['title'].iloc[0]\n",
    "\n",
    "# переразмечаем тамы, то есть каждому индексу статьи будет соответствовать индекс lda тем (вероятности)\n",
    "def get_lda_vector(text):\n",
    "    unseen_doc = common_dictionary.doc2bow(text)\n",
    "    lda_tuple = lda[unseen_doc]\n",
    "    not_null_topics = dict(zip([i[0] for i in lda_tuple], [i[1] for i in lda_tuple]))\n",
    "\n",
    "    output_vector = []\n",
    "    for i in range(N_topic):\n",
    "        if i not in not_null_topics:\n",
    "            output_vector.append(0)\n",
    "        else:\n",
    "            output_vector.append(not_null_topics[i])\n",
    "    return np.array(output_vector)"
   ]
  },
  {
   "cell_type": "code",
   "execution_count": 251,
   "metadata": {
    "colab": {
     "base_uri": "https://localhost:8080/",
     "height": 203
    },
    "id": "QKc4AAI5MIG2",
    "outputId": "b49366ac-ce7d-4c22-8a72-4a0c97e60e0d"
   },
   "outputs": [
    {
     "data": {
      "text/html": [
       "<div>\n",
       "<style scoped>\n",
       "    .dataframe tbody tr th:only-of-type {\n",
       "        vertical-align: middle;\n",
       "    }\n",
       "\n",
       "    .dataframe tbody tr th {\n",
       "        vertical-align: top;\n",
       "    }\n",
       "\n",
       "    .dataframe thead th {\n",
       "        text-align: right;\n",
       "    }\n",
       "</style>\n",
       "<table border=\"1\" class=\"dataframe\">\n",
       "  <thead>\n",
       "    <tr style=\"text-align: right;\">\n",
       "      <th></th>\n",
       "      <th>doc_id</th>\n",
       "      <th>topic_0</th>\n",
       "      <th>topic_1</th>\n",
       "      <th>topic_2</th>\n",
       "      <th>topic_3</th>\n",
       "      <th>topic_4</th>\n",
       "      <th>topic_5</th>\n",
       "      <th>topic_6</th>\n",
       "      <th>topic_7</th>\n",
       "      <th>topic_8</th>\n",
       "      <th>...</th>\n",
       "      <th>topic_10</th>\n",
       "      <th>topic_11</th>\n",
       "      <th>topic_12</th>\n",
       "      <th>topic_13</th>\n",
       "      <th>topic_14</th>\n",
       "      <th>topic_15</th>\n",
       "      <th>topic_16</th>\n",
       "      <th>topic_17</th>\n",
       "      <th>topic_18</th>\n",
       "      <th>topic_19</th>\n",
       "    </tr>\n",
       "  </thead>\n",
       "  <tbody>\n",
       "    <tr>\n",
       "      <th>0</th>\n",
       "      <td>6</td>\n",
       "      <td>0.0</td>\n",
       "      <td>0.0</td>\n",
       "      <td>0.0</td>\n",
       "      <td>0.000000</td>\n",
       "      <td>0.000000</td>\n",
       "      <td>0.000000</td>\n",
       "      <td>0.0</td>\n",
       "      <td>0.0</td>\n",
       "      <td>0.000000</td>\n",
       "      <td>...</td>\n",
       "      <td>0.077242</td>\n",
       "      <td>0.0</td>\n",
       "      <td>0.0</td>\n",
       "      <td>0.023051</td>\n",
       "      <td>0.0</td>\n",
       "      <td>0.0</td>\n",
       "      <td>0.0</td>\n",
       "      <td>0.000000</td>\n",
       "      <td>0.000000</td>\n",
       "      <td>0.0</td>\n",
       "    </tr>\n",
       "    <tr>\n",
       "      <th>1</th>\n",
       "      <td>4896</td>\n",
       "      <td>0.0</td>\n",
       "      <td>0.0</td>\n",
       "      <td>0.0</td>\n",
       "      <td>0.000000</td>\n",
       "      <td>0.000000</td>\n",
       "      <td>0.000000</td>\n",
       "      <td>0.0</td>\n",
       "      <td>0.0</td>\n",
       "      <td>0.000000</td>\n",
       "      <td>...</td>\n",
       "      <td>0.974993</td>\n",
       "      <td>0.0</td>\n",
       "      <td>0.0</td>\n",
       "      <td>0.000000</td>\n",
       "      <td>0.0</td>\n",
       "      <td>0.0</td>\n",
       "      <td>0.0</td>\n",
       "      <td>0.000000</td>\n",
       "      <td>0.000000</td>\n",
       "      <td>0.0</td>\n",
       "    </tr>\n",
       "    <tr>\n",
       "      <th>2</th>\n",
       "      <td>4897</td>\n",
       "      <td>0.0</td>\n",
       "      <td>0.0</td>\n",
       "      <td>0.0</td>\n",
       "      <td>0.097351</td>\n",
       "      <td>0.100965</td>\n",
       "      <td>0.109563</td>\n",
       "      <td>0.0</td>\n",
       "      <td>0.0</td>\n",
       "      <td>0.031844</td>\n",
       "      <td>...</td>\n",
       "      <td>0.613552</td>\n",
       "      <td>0.0</td>\n",
       "      <td>0.0</td>\n",
       "      <td>0.000000</td>\n",
       "      <td>0.0</td>\n",
       "      <td>0.0</td>\n",
       "      <td>0.0</td>\n",
       "      <td>0.027658</td>\n",
       "      <td>0.000000</td>\n",
       "      <td>0.0</td>\n",
       "    </tr>\n",
       "    <tr>\n",
       "      <th>3</th>\n",
       "      <td>4898</td>\n",
       "      <td>0.0</td>\n",
       "      <td>0.0</td>\n",
       "      <td>0.0</td>\n",
       "      <td>0.069390</td>\n",
       "      <td>0.105739</td>\n",
       "      <td>0.000000</td>\n",
       "      <td>0.0</td>\n",
       "      <td>0.0</td>\n",
       "      <td>0.000000</td>\n",
       "      <td>...</td>\n",
       "      <td>0.391922</td>\n",
       "      <td>0.0</td>\n",
       "      <td>0.0</td>\n",
       "      <td>0.422527</td>\n",
       "      <td>0.0</td>\n",
       "      <td>0.0</td>\n",
       "      <td>0.0</td>\n",
       "      <td>0.000000</td>\n",
       "      <td>0.000000</td>\n",
       "      <td>0.0</td>\n",
       "    </tr>\n",
       "    <tr>\n",
       "      <th>4</th>\n",
       "      <td>4899</td>\n",
       "      <td>0.0</td>\n",
       "      <td>0.0</td>\n",
       "      <td>0.0</td>\n",
       "      <td>0.000000</td>\n",
       "      <td>0.000000</td>\n",
       "      <td>0.210794</td>\n",
       "      <td>0.0</td>\n",
       "      <td>0.0</td>\n",
       "      <td>0.000000</td>\n",
       "      <td>...</td>\n",
       "      <td>0.000000</td>\n",
       "      <td>0.0</td>\n",
       "      <td>0.0</td>\n",
       "      <td>0.000000</td>\n",
       "      <td>0.0</td>\n",
       "      <td>0.0</td>\n",
       "      <td>0.0</td>\n",
       "      <td>0.000000</td>\n",
       "      <td>0.504368</td>\n",
       "      <td>0.0</td>\n",
       "    </tr>\n",
       "  </tbody>\n",
       "</table>\n",
       "<p>5 rows × 21 columns</p>\n",
       "</div>"
      ],
      "text/plain": [
       "   doc_id  topic_0  topic_1  topic_2   topic_3   topic_4   topic_5  topic_6  \\\n",
       "0       6      0.0      0.0      0.0  0.000000  0.000000  0.000000      0.0   \n",
       "1    4896      0.0      0.0      0.0  0.000000  0.000000  0.000000      0.0   \n",
       "2    4897      0.0      0.0      0.0  0.097351  0.100965  0.109563      0.0   \n",
       "3    4898      0.0      0.0      0.0  0.069390  0.105739  0.000000      0.0   \n",
       "4    4899      0.0      0.0      0.0  0.000000  0.000000  0.210794      0.0   \n",
       "\n",
       "   topic_7   topic_8  ...  topic_10  topic_11  topic_12  topic_13  topic_14  \\\n",
       "0      0.0  0.000000  ...  0.077242       0.0       0.0  0.023051       0.0   \n",
       "1      0.0  0.000000  ...  0.974993       0.0       0.0  0.000000       0.0   \n",
       "2      0.0  0.031844  ...  0.613552       0.0       0.0  0.000000       0.0   \n",
       "3      0.0  0.000000  ...  0.391922       0.0       0.0  0.422527       0.0   \n",
       "4      0.0  0.000000  ...  0.000000       0.0       0.0  0.000000       0.0   \n",
       "\n",
       "   topic_15  topic_16  topic_17  topic_18  topic_19  \n",
       "0       0.0       0.0  0.000000  0.000000       0.0  \n",
       "1       0.0       0.0  0.000000  0.000000       0.0  \n",
       "2       0.0       0.0  0.027658  0.000000       0.0  \n",
       "3       0.0       0.0  0.000000  0.000000       0.0  \n",
       "4       0.0       0.0  0.000000  0.504368       0.0  \n",
       "\n",
       "[5 rows x 21 columns]"
      ]
     },
     "execution_count": 251,
     "metadata": {},
     "output_type": "execute_result"
    }
   ],
   "source": [
    "topic_matrix = pd.DataFrame([get_lda_vector(text) for text in news['title'].values])\n",
    "topic_matrix.columns = ['topic_{}'.format(i) for i in range(N_topic)]\n",
    "topic_matrix['doc_id'] = news['doc_id'].values\n",
    "topic_matrix = topic_matrix[['doc_id']+['topic_{}'.format(i) for i in range(N_topic)]]\n",
    "topic_matrix.head(5)"
   ]
  },
  {
   "cell_type": "code",
   "execution_count": 252,
   "metadata": {
    "colab": {
     "base_uri": "https://localhost:8080/",
     "height": 203
    },
    "id": "EHZFcqJKo0D8",
    "outputId": "f59c31de-70b1-4e8d-e09d-b06ceee36a6f"
   },
   "outputs": [
    {
     "data": {
      "text/html": [
       "<div>\n",
       "<style scoped>\n",
       "    .dataframe tbody tr th:only-of-type {\n",
       "        vertical-align: middle;\n",
       "    }\n",
       "\n",
       "    .dataframe tbody tr th {\n",
       "        vertical-align: top;\n",
       "    }\n",
       "\n",
       "    .dataframe thead th {\n",
       "        text-align: right;\n",
       "    }\n",
       "</style>\n",
       "<table border=\"1\" class=\"dataframe\">\n",
       "  <thead>\n",
       "    <tr style=\"text-align: right;\">\n",
       "      <th></th>\n",
       "      <th>doc_id</th>\n",
       "      <th>topic_0</th>\n",
       "      <th>topic_1</th>\n",
       "      <th>topic_2</th>\n",
       "      <th>topic_3</th>\n",
       "      <th>topic_4</th>\n",
       "      <th>topic_5</th>\n",
       "      <th>topic_6</th>\n",
       "      <th>topic_7</th>\n",
       "      <th>topic_8</th>\n",
       "      <th>...</th>\n",
       "      <th>topic_10</th>\n",
       "      <th>topic_11</th>\n",
       "      <th>topic_12</th>\n",
       "      <th>topic_13</th>\n",
       "      <th>topic_14</th>\n",
       "      <th>topic_15</th>\n",
       "      <th>topic_16</th>\n",
       "      <th>topic_17</th>\n",
       "      <th>topic_18</th>\n",
       "      <th>topic_19</th>\n",
       "    </tr>\n",
       "  </thead>\n",
       "  <tbody>\n",
       "    <tr>\n",
       "      <th>0</th>\n",
       "      <td>6</td>\n",
       "      <td>0.0</td>\n",
       "      <td>0.0</td>\n",
       "      <td>0.0</td>\n",
       "      <td>0.000000</td>\n",
       "      <td>0.000000</td>\n",
       "      <td>0.000000</td>\n",
       "      <td>0.0</td>\n",
       "      <td>0.0</td>\n",
       "      <td>0.000000</td>\n",
       "      <td>...</td>\n",
       "      <td>0.077242</td>\n",
       "      <td>0.0</td>\n",
       "      <td>0.0</td>\n",
       "      <td>0.023051</td>\n",
       "      <td>0.0</td>\n",
       "      <td>0.0</td>\n",
       "      <td>0.0</td>\n",
       "      <td>0.000000</td>\n",
       "      <td>0.000000</td>\n",
       "      <td>0.0</td>\n",
       "    </tr>\n",
       "    <tr>\n",
       "      <th>1</th>\n",
       "      <td>4896</td>\n",
       "      <td>0.0</td>\n",
       "      <td>0.0</td>\n",
       "      <td>0.0</td>\n",
       "      <td>0.000000</td>\n",
       "      <td>0.000000</td>\n",
       "      <td>0.000000</td>\n",
       "      <td>0.0</td>\n",
       "      <td>0.0</td>\n",
       "      <td>0.000000</td>\n",
       "      <td>...</td>\n",
       "      <td>0.974993</td>\n",
       "      <td>0.0</td>\n",
       "      <td>0.0</td>\n",
       "      <td>0.000000</td>\n",
       "      <td>0.0</td>\n",
       "      <td>0.0</td>\n",
       "      <td>0.0</td>\n",
       "      <td>0.000000</td>\n",
       "      <td>0.000000</td>\n",
       "      <td>0.0</td>\n",
       "    </tr>\n",
       "    <tr>\n",
       "      <th>2</th>\n",
       "      <td>4897</td>\n",
       "      <td>0.0</td>\n",
       "      <td>0.0</td>\n",
       "      <td>0.0</td>\n",
       "      <td>0.097351</td>\n",
       "      <td>0.100965</td>\n",
       "      <td>0.109563</td>\n",
       "      <td>0.0</td>\n",
       "      <td>0.0</td>\n",
       "      <td>0.031844</td>\n",
       "      <td>...</td>\n",
       "      <td>0.613552</td>\n",
       "      <td>0.0</td>\n",
       "      <td>0.0</td>\n",
       "      <td>0.000000</td>\n",
       "      <td>0.0</td>\n",
       "      <td>0.0</td>\n",
       "      <td>0.0</td>\n",
       "      <td>0.027658</td>\n",
       "      <td>0.000000</td>\n",
       "      <td>0.0</td>\n",
       "    </tr>\n",
       "    <tr>\n",
       "      <th>3</th>\n",
       "      <td>4898</td>\n",
       "      <td>0.0</td>\n",
       "      <td>0.0</td>\n",
       "      <td>0.0</td>\n",
       "      <td>0.069390</td>\n",
       "      <td>0.105739</td>\n",
       "      <td>0.000000</td>\n",
       "      <td>0.0</td>\n",
       "      <td>0.0</td>\n",
       "      <td>0.000000</td>\n",
       "      <td>...</td>\n",
       "      <td>0.391922</td>\n",
       "      <td>0.0</td>\n",
       "      <td>0.0</td>\n",
       "      <td>0.422527</td>\n",
       "      <td>0.0</td>\n",
       "      <td>0.0</td>\n",
       "      <td>0.0</td>\n",
       "      <td>0.000000</td>\n",
       "      <td>0.000000</td>\n",
       "      <td>0.0</td>\n",
       "    </tr>\n",
       "    <tr>\n",
       "      <th>4</th>\n",
       "      <td>4899</td>\n",
       "      <td>0.0</td>\n",
       "      <td>0.0</td>\n",
       "      <td>0.0</td>\n",
       "      <td>0.000000</td>\n",
       "      <td>0.000000</td>\n",
       "      <td>0.210794</td>\n",
       "      <td>0.0</td>\n",
       "      <td>0.0</td>\n",
       "      <td>0.000000</td>\n",
       "      <td>...</td>\n",
       "      <td>0.000000</td>\n",
       "      <td>0.0</td>\n",
       "      <td>0.0</td>\n",
       "      <td>0.000000</td>\n",
       "      <td>0.0</td>\n",
       "      <td>0.0</td>\n",
       "      <td>0.0</td>\n",
       "      <td>0.000000</td>\n",
       "      <td>0.504368</td>\n",
       "      <td>0.0</td>\n",
       "    </tr>\n",
       "  </tbody>\n",
       "</table>\n",
       "<p>5 rows × 21 columns</p>\n",
       "</div>"
      ],
      "text/plain": [
       "   doc_id  topic_0  topic_1  topic_2   topic_3   topic_4   topic_5  topic_6  \\\n",
       "0       6      0.0      0.0      0.0  0.000000  0.000000  0.000000      0.0   \n",
       "1    4896      0.0      0.0      0.0  0.000000  0.000000  0.000000      0.0   \n",
       "2    4897      0.0      0.0      0.0  0.097351  0.100965  0.109563      0.0   \n",
       "3    4898      0.0      0.0      0.0  0.069390  0.105739  0.000000      0.0   \n",
       "4    4899      0.0      0.0      0.0  0.000000  0.000000  0.210794      0.0   \n",
       "\n",
       "   topic_7   topic_8  ...  topic_10  topic_11  topic_12  topic_13  topic_14  \\\n",
       "0      0.0  0.000000  ...  0.077242       0.0       0.0  0.023051       0.0   \n",
       "1      0.0  0.000000  ...  0.974993       0.0       0.0  0.000000       0.0   \n",
       "2      0.0  0.031844  ...  0.613552       0.0       0.0  0.000000       0.0   \n",
       "3      0.0  0.000000  ...  0.391922       0.0       0.0  0.422527       0.0   \n",
       "4      0.0  0.000000  ...  0.000000       0.0       0.0  0.000000       0.0   \n",
       "\n",
       "   topic_15  topic_16  topic_17  topic_18  topic_19  \n",
       "0       0.0       0.0  0.000000  0.000000       0.0  \n",
       "1       0.0       0.0  0.000000  0.000000       0.0  \n",
       "2       0.0       0.0  0.027658  0.000000       0.0  \n",
       "3       0.0       0.0  0.000000  0.000000       0.0  \n",
       "4       0.0       0.0  0.000000  0.504368       0.0  \n",
       "\n",
       "[5 rows x 21 columns]"
      ]
     },
     "execution_count": 252,
     "metadata": {},
     "output_type": "execute_result"
    }
   ],
   "source": [
    "topic_matrix.head()"
   ]
  },
  {
   "cell_type": "markdown",
   "metadata": {
    "id": "MbQgZQ3MMIG2"
   },
   "source": [
    "Прекрасно, мы получили вектора наших новостей! И даже умеем интерпретировать получившиеся темы.\n",
    "\n",
    "Можно двигаться далее"
   ]
  },
  {
   "cell_type": "markdown",
   "metadata": {
    "id": "z0JACLjHMIG3"
   },
   "source": [
    "### Следующий шаг - векторные представления пользователей"
   ]
  },
  {
   "cell_type": "code",
   "execution_count": 253,
   "metadata": {
    "colab": {
     "base_uri": "https://localhost:8080/",
     "height": 357
    },
    "id": "7IcoyDauMIG3",
    "outputId": "1ac9216c-6721-4554-ca7d-8abf52ab377f",
    "scrolled": true
   },
   "outputs": [
    {
     "data": {
      "text/html": [
       "<div>\n",
       "<style scoped>\n",
       "    .dataframe tbody tr th:only-of-type {\n",
       "        vertical-align: middle;\n",
       "    }\n",
       "\n",
       "    .dataframe tbody tr th {\n",
       "        vertical-align: top;\n",
       "    }\n",
       "\n",
       "    .dataframe thead th {\n",
       "        text-align: right;\n",
       "    }\n",
       "</style>\n",
       "<table border=\"1\" class=\"dataframe\">\n",
       "  <thead>\n",
       "    <tr style=\"text-align: right;\">\n",
       "      <th></th>\n",
       "      <th>uid</th>\n",
       "      <th>articles</th>\n",
       "    </tr>\n",
       "  </thead>\n",
       "  <tbody>\n",
       "    <tr>\n",
       "      <th>0</th>\n",
       "      <td>u105138</td>\n",
       "      <td>[293672, 293328, 293001, 293622, 293126, 1852]</td>\n",
       "    </tr>\n",
       "    <tr>\n",
       "      <th>1</th>\n",
       "      <td>u108690</td>\n",
       "      <td>[3405, 1739, 2972, 1158, 1599, 322665]</td>\n",
       "    </tr>\n",
       "    <tr>\n",
       "      <th>2</th>\n",
       "      <td>u108339</td>\n",
       "      <td>[1845, 2009, 2356, 1424, 2939, 323389]</td>\n",
       "    </tr>\n",
       "    <tr>\n",
       "      <th>3</th>\n",
       "      <td>u101138</td>\n",
       "      <td>[5933, 6186, 5055, 6977, 5206, 488389]</td>\n",
       "    </tr>\n",
       "    <tr>\n",
       "      <th>4</th>\n",
       "      <td>u108248</td>\n",
       "      <td>[707, 1144, 2532, 2928, 3133, 324592]</td>\n",
       "    </tr>\n",
       "  </tbody>\n",
       "</table>\n",
       "</div>"
      ],
      "text/plain": [
       "       uid                                        articles\n",
       "0  u105138  [293672, 293328, 293001, 293622, 293126, 1852]\n",
       "1  u108690          [3405, 1739, 2972, 1158, 1599, 322665]\n",
       "2  u108339          [1845, 2009, 2356, 1424, 2939, 323389]\n",
       "3  u101138          [5933, 6186, 5055, 6977, 5206, 488389]\n",
       "4  u108248           [707, 1144, 2532, 2928, 3133, 324592]"
      ]
     },
     "execution_count": 253,
     "metadata": {},
     "output_type": "execute_result"
    }
   ],
   "source": [
    "users.head()"
   ]
  },
  {
   "cell_type": "code",
   "execution_count": 254,
   "metadata": {
    "id": "U2pcSIBDMIG4"
   },
   "outputs": [],
   "source": [
    "doc_dict = dict(zip(topic_matrix['doc_id'].values, topic_matrix[['topic_{}'.format(i) for i in range(N_topic)]].values))"
   ]
  },
  {
   "cell_type": "code",
   "execution_count": 255,
   "metadata": {
    "colab": {
     "base_uri": "https://localhost:8080/"
    },
    "id": "wG7wI5TfMIG4",
    "outputId": "c69f86f0-6180-4c26-c600-45bcd0958ab8"
   },
   "outputs": [
    {
     "data": {
      "text/plain": [
       "array([0.066816  , 0.        , 0.        , 0.        , 0.09496625,\n",
       "       0.        , 0.02338729, 0.08098955, 0.        , 0.16907668,\n",
       "       0.        , 0.        , 0.        , 0.06537013, 0.24703202,\n",
       "       0.12185331, 0.        , 0.        , 0.1259236 , 0.        ])"
      ]
     },
     "execution_count": 255,
     "metadata": {},
     "output_type": "execute_result"
    }
   ],
   "source": [
    "doc_dict[323426]"
   ]
  },
  {
   "cell_type": "code",
   "execution_count": 256,
   "metadata": {
    "id": "6ssOp3RkMIG5"
   },
   "outputs": [],
   "source": [
    "user_articles_list = users['articles'].iloc[33]\n",
    "\n",
    "def get_user_embedding(user_articles_list):\n",
    "    user_articles_list = eval(user_articles_list)\n",
    "    user_vector = np.array([doc_dict[doc_id] for doc_id in user_articles_list])\n",
    "    #print(user_vector)\n",
    "    user_vector1 = np.mean(user_vector, 0)  # можно не средний\n",
    "    return user_vector1 #,user_vector"
   ]
  },
  {
   "cell_type": "code",
   "execution_count": 257,
   "metadata": {
    "id": "UKfTfcyKMDLq"
   },
   "outputs": [],
   "source": [
    "user_articles_list = users['articles'].iloc[33]"
   ]
  },
  {
   "cell_type": "code",
   "execution_count": 258,
   "metadata": {
    "colab": {
     "base_uri": "https://localhost:8080/"
    },
    "id": "kn0IxR3vMIG5",
    "outputId": "b216c294-dbc3-4249-b0ea-aad5e0aeeb4b"
   },
   "outputs": [
    {
     "data": {
      "text/plain": [
       "array([0.26309054, 0.        , 0.        , 0.13908483, 0.04509653,\n",
       "       0.        , 0.04681538, 0.04903178, 0.        , 0.178724  ,\n",
       "       0.        , 0.        , 0.01007914, 0.02868581, 0.1203914 ,\n",
       "       0.05067247, 0.        , 0.03533753, 0.01949123, 0.        ])"
      ]
     },
     "execution_count": 258,
     "metadata": {},
     "output_type": "execute_result"
    }
   ],
   "source": [
    "vv = get_user_embedding(user_articles_list)\n",
    "vv"
   ]
  },
  {
   "cell_type": "code",
   "execution_count": 259,
   "metadata": {
    "id": "vw-UHq1PLiD6"
   },
   "outputs": [],
   "source": [
    "import matplotlib.pyplot as plt"
   ]
  },
  {
   "cell_type": "markdown",
   "metadata": {
    "id": "bbJ6STRBMIG6"
   },
   "source": [
    "Интересовался новостями с топиками topic_3, topic_14 (что-то про политику и государство)"
   ]
  },
  {
   "cell_type": "code",
   "execution_count": 260,
   "metadata": {
    "id": "3UPXZgsVMIG6"
   },
   "outputs": [],
   "source": [
    "#users['articles'].iloc[33]"
   ]
  },
  {
   "cell_type": "code",
   "execution_count": 261,
   "metadata": {
    "id": "bDJCMtAFMIG7",
    "scrolled": true
   },
   "outputs": [],
   "source": [
    "#\" \".join(news[news['doc_id']==323186]['title'].iloc[0])"
   ]
  },
  {
   "cell_type": "markdown",
   "metadata": {
    "id": "tk9q6qrVMIG7"
   },
   "source": [
    "Теперь получим эмбединги для всех пользователей и проверим их качество на конкретной downstream-задаче"
   ]
  },
  {
   "cell_type": "code",
   "execution_count": 262,
   "metadata": {
    "colab": {
     "base_uri": "https://localhost:8080/",
     "height": 142
    },
    "id": "2gJ71BPbMIG8",
    "outputId": "4c0b2344-f3f4-4567-f806-a83ba4cca033"
   },
   "outputs": [
    {
     "data": {
      "text/html": [
       "<div>\n",
       "<style scoped>\n",
       "    .dataframe tbody tr th:only-of-type {\n",
       "        vertical-align: middle;\n",
       "    }\n",
       "\n",
       "    .dataframe tbody tr th {\n",
       "        vertical-align: top;\n",
       "    }\n",
       "\n",
       "    .dataframe thead th {\n",
       "        text-align: right;\n",
       "    }\n",
       "</style>\n",
       "<table border=\"1\" class=\"dataframe\">\n",
       "  <thead>\n",
       "    <tr style=\"text-align: right;\">\n",
       "      <th></th>\n",
       "      <th>uid</th>\n",
       "      <th>topic_0</th>\n",
       "      <th>topic_1</th>\n",
       "      <th>topic_2</th>\n",
       "      <th>topic_3</th>\n",
       "      <th>topic_4</th>\n",
       "      <th>topic_5</th>\n",
       "      <th>topic_6</th>\n",
       "      <th>topic_7</th>\n",
       "      <th>topic_8</th>\n",
       "      <th>...</th>\n",
       "      <th>topic_10</th>\n",
       "      <th>topic_11</th>\n",
       "      <th>topic_12</th>\n",
       "      <th>topic_13</th>\n",
       "      <th>topic_14</th>\n",
       "      <th>topic_15</th>\n",
       "      <th>topic_16</th>\n",
       "      <th>topic_17</th>\n",
       "      <th>topic_18</th>\n",
       "      <th>topic_19</th>\n",
       "    </tr>\n",
       "  </thead>\n",
       "  <tbody>\n",
       "    <tr>\n",
       "      <th>0</th>\n",
       "      <td>u105138</td>\n",
       "      <td>0.133009</td>\n",
       "      <td>0.0</td>\n",
       "      <td>0.000000</td>\n",
       "      <td>0.185612</td>\n",
       "      <td>0.040072</td>\n",
       "      <td>0.023022</td>\n",
       "      <td>0.045572</td>\n",
       "      <td>0.097732</td>\n",
       "      <td>0.0</td>\n",
       "      <td>...</td>\n",
       "      <td>0.018639</td>\n",
       "      <td>0.023651</td>\n",
       "      <td>0.004768</td>\n",
       "      <td>0.061062</td>\n",
       "      <td>0.087682</td>\n",
       "      <td>0.089741</td>\n",
       "      <td>0.000000</td>\n",
       "      <td>0.022292</td>\n",
       "      <td>0.076532</td>\n",
       "      <td>0.002003</td>\n",
       "    </tr>\n",
       "    <tr>\n",
       "      <th>1</th>\n",
       "      <td>u108690</td>\n",
       "      <td>0.181821</td>\n",
       "      <td>0.0</td>\n",
       "      <td>0.000000</td>\n",
       "      <td>0.155994</td>\n",
       "      <td>0.040729</td>\n",
       "      <td>0.010472</td>\n",
       "      <td>0.114500</td>\n",
       "      <td>0.066138</td>\n",
       "      <td>0.0</td>\n",
       "      <td>...</td>\n",
       "      <td>0.006735</td>\n",
       "      <td>0.006444</td>\n",
       "      <td>0.002712</td>\n",
       "      <td>0.064217</td>\n",
       "      <td>0.115634</td>\n",
       "      <td>0.055097</td>\n",
       "      <td>0.013321</td>\n",
       "      <td>0.004537</td>\n",
       "      <td>0.000000</td>\n",
       "      <td>0.005975</td>\n",
       "    </tr>\n",
       "    <tr>\n",
       "      <th>2</th>\n",
       "      <td>u108339</td>\n",
       "      <td>0.216758</td>\n",
       "      <td>0.0</td>\n",
       "      <td>0.002294</td>\n",
       "      <td>0.087835</td>\n",
       "      <td>0.015349</td>\n",
       "      <td>0.011463</td>\n",
       "      <td>0.022881</td>\n",
       "      <td>0.029549</td>\n",
       "      <td>0.0</td>\n",
       "      <td>...</td>\n",
       "      <td>0.012168</td>\n",
       "      <td>0.003342</td>\n",
       "      <td>0.005016</td>\n",
       "      <td>0.050166</td>\n",
       "      <td>0.279318</td>\n",
       "      <td>0.055698</td>\n",
       "      <td>0.002610</td>\n",
       "      <td>0.027274</td>\n",
       "      <td>0.032633</td>\n",
       "      <td>0.006326</td>\n",
       "    </tr>\n",
       "  </tbody>\n",
       "</table>\n",
       "<p>3 rows × 21 columns</p>\n",
       "</div>"
      ],
      "text/plain": [
       "       uid   topic_0  topic_1   topic_2   topic_3   topic_4   topic_5  \\\n",
       "0  u105138  0.133009      0.0  0.000000  0.185612  0.040072  0.023022   \n",
       "1  u108690  0.181821      0.0  0.000000  0.155994  0.040729  0.010472   \n",
       "2  u108339  0.216758      0.0  0.002294  0.087835  0.015349  0.011463   \n",
       "\n",
       "    topic_6   topic_7  topic_8  ...  topic_10  topic_11  topic_12  topic_13  \\\n",
       "0  0.045572  0.097732      0.0  ...  0.018639  0.023651  0.004768  0.061062   \n",
       "1  0.114500  0.066138      0.0  ...  0.006735  0.006444  0.002712  0.064217   \n",
       "2  0.022881  0.029549      0.0  ...  0.012168  0.003342  0.005016  0.050166   \n",
       "\n",
       "   topic_14  topic_15  topic_16  topic_17  topic_18  topic_19  \n",
       "0  0.087682  0.089741  0.000000  0.022292  0.076532  0.002003  \n",
       "1  0.115634  0.055097  0.013321  0.004537  0.000000  0.005975  \n",
       "2  0.279318  0.055698  0.002610  0.027274  0.032633  0.006326  \n",
       "\n",
       "[3 rows x 21 columns]"
      ]
     },
     "execution_count": 262,
     "metadata": {},
     "output_type": "execute_result"
    }
   ],
   "source": [
    "user_embeddings = pd.DataFrame([i for i in users['articles'].apply(lambda x: get_user_embedding(x), 1)])\n",
    "user_embeddings.columns = ['topic_{}'.format(i) for i in range(N_topic)]\n",
    "user_embeddings['uid'] = users['uid'].values\n",
    "user_embeddings = user_embeddings[['uid']+['topic_{}'.format(i) for i in range(N_topic)]]\n",
    "user_embeddings.head(3)"
   ]
  },
  {
   "cell_type": "markdown",
   "metadata": {
    "id": "dZNF_ZXSMIG8"
   },
   "source": [
    "Датасет готов - можно попробовать обучить модель. Объединим датасет"
   ]
  },
  {
   "cell_type": "code",
   "execution_count": 263,
   "metadata": {
    "colab": {
     "base_uri": "https://localhost:8080/",
     "height": 162
    },
    "id": "qXzy3pA2MIG9",
    "outputId": "fc85153b-5b2f-4757-d803-6673c9bc46d5"
   },
   "outputs": [
    {
     "data": {
      "text/html": [
       "<div>\n",
       "<style scoped>\n",
       "    .dataframe tbody tr th:only-of-type {\n",
       "        vertical-align: middle;\n",
       "    }\n",
       "\n",
       "    .dataframe tbody tr th {\n",
       "        vertical-align: top;\n",
       "    }\n",
       "\n",
       "    .dataframe thead th {\n",
       "        text-align: right;\n",
       "    }\n",
       "</style>\n",
       "<table border=\"1\" class=\"dataframe\">\n",
       "  <thead>\n",
       "    <tr style=\"text-align: right;\">\n",
       "      <th></th>\n",
       "      <th>uid</th>\n",
       "      <th>topic_0</th>\n",
       "      <th>topic_1</th>\n",
       "      <th>topic_2</th>\n",
       "      <th>topic_3</th>\n",
       "      <th>topic_4</th>\n",
       "      <th>topic_5</th>\n",
       "      <th>topic_6</th>\n",
       "      <th>topic_7</th>\n",
       "      <th>topic_8</th>\n",
       "      <th>...</th>\n",
       "      <th>topic_11</th>\n",
       "      <th>topic_12</th>\n",
       "      <th>topic_13</th>\n",
       "      <th>topic_14</th>\n",
       "      <th>topic_15</th>\n",
       "      <th>topic_16</th>\n",
       "      <th>topic_17</th>\n",
       "      <th>topic_18</th>\n",
       "      <th>topic_19</th>\n",
       "      <th>churn</th>\n",
       "    </tr>\n",
       "  </thead>\n",
       "  <tbody>\n",
       "    <tr>\n",
       "      <th>0</th>\n",
       "      <td>u105138</td>\n",
       "      <td>0.133009</td>\n",
       "      <td>0.0</td>\n",
       "      <td>0.000000</td>\n",
       "      <td>0.185612</td>\n",
       "      <td>0.040072</td>\n",
       "      <td>0.023022</td>\n",
       "      <td>0.045572</td>\n",
       "      <td>0.097732</td>\n",
       "      <td>0.0</td>\n",
       "      <td>...</td>\n",
       "      <td>0.023651</td>\n",
       "      <td>0.004768</td>\n",
       "      <td>0.061062</td>\n",
       "      <td>0.087682</td>\n",
       "      <td>0.089741</td>\n",
       "      <td>0.000000</td>\n",
       "      <td>0.022292</td>\n",
       "      <td>0.076532</td>\n",
       "      <td>0.002003</td>\n",
       "      <td>0</td>\n",
       "    </tr>\n",
       "    <tr>\n",
       "      <th>1</th>\n",
       "      <td>u108690</td>\n",
       "      <td>0.181821</td>\n",
       "      <td>0.0</td>\n",
       "      <td>0.000000</td>\n",
       "      <td>0.155994</td>\n",
       "      <td>0.040729</td>\n",
       "      <td>0.010472</td>\n",
       "      <td>0.114500</td>\n",
       "      <td>0.066138</td>\n",
       "      <td>0.0</td>\n",
       "      <td>...</td>\n",
       "      <td>0.006444</td>\n",
       "      <td>0.002712</td>\n",
       "      <td>0.064217</td>\n",
       "      <td>0.115634</td>\n",
       "      <td>0.055097</td>\n",
       "      <td>0.013321</td>\n",
       "      <td>0.004537</td>\n",
       "      <td>0.000000</td>\n",
       "      <td>0.005975</td>\n",
       "      <td>1</td>\n",
       "    </tr>\n",
       "    <tr>\n",
       "      <th>2</th>\n",
       "      <td>u108339</td>\n",
       "      <td>0.216758</td>\n",
       "      <td>0.0</td>\n",
       "      <td>0.002294</td>\n",
       "      <td>0.087835</td>\n",
       "      <td>0.015349</td>\n",
       "      <td>0.011463</td>\n",
       "      <td>0.022881</td>\n",
       "      <td>0.029549</td>\n",
       "      <td>0.0</td>\n",
       "      <td>...</td>\n",
       "      <td>0.003342</td>\n",
       "      <td>0.005016</td>\n",
       "      <td>0.050166</td>\n",
       "      <td>0.279318</td>\n",
       "      <td>0.055698</td>\n",
       "      <td>0.002610</td>\n",
       "      <td>0.027274</td>\n",
       "      <td>0.032633</td>\n",
       "      <td>0.006326</td>\n",
       "      <td>1</td>\n",
       "    </tr>\n",
       "  </tbody>\n",
       "</table>\n",
       "<p>3 rows × 22 columns</p>\n",
       "</div>"
      ],
      "text/plain": [
       "       uid   topic_0  topic_1   topic_2   topic_3   topic_4   topic_5  \\\n",
       "0  u105138  0.133009      0.0  0.000000  0.185612  0.040072  0.023022   \n",
       "1  u108690  0.181821      0.0  0.000000  0.155994  0.040729  0.010472   \n",
       "2  u108339  0.216758      0.0  0.002294  0.087835  0.015349  0.011463   \n",
       "\n",
       "    topic_6   topic_7  topic_8  ...  topic_11  topic_12  topic_13  topic_14  \\\n",
       "0  0.045572  0.097732      0.0  ...  0.023651  0.004768  0.061062  0.087682   \n",
       "1  0.114500  0.066138      0.0  ...  0.006444  0.002712  0.064217  0.115634   \n",
       "2  0.022881  0.029549      0.0  ...  0.003342  0.005016  0.050166  0.279318   \n",
       "\n",
       "   topic_15  topic_16  topic_17  topic_18  topic_19  churn  \n",
       "0  0.089741  0.000000  0.022292  0.076532  0.002003      0  \n",
       "1  0.055097  0.013321  0.004537  0.000000  0.005975      1  \n",
       "2  0.055698  0.002610  0.027274  0.032633  0.006326      1  \n",
       "\n",
       "[3 rows x 22 columns]"
      ]
     },
     "execution_count": 263,
     "metadata": {},
     "output_type": "execute_result"
    }
   ],
   "source": [
    "X = pd.merge(user_embeddings, target, 'left')\n",
    "X.head(3)"
   ]
  },
  {
   "cell_type": "code",
   "execution_count": 264,
   "metadata": {
    "id": "Un-dl_vDMIHM"
   },
   "outputs": [],
   "source": [
    "from sklearn.linear_model import LogisticRegression\n",
    "from sklearn.model_selection import train_test_split\n",
    "#import itertools\n",
    "\n",
    "import matplotlib.pyplot as plt\n",
    "\n",
    "%matplotlib inline"
   ]
  },
  {
   "cell_type": "code",
   "execution_count": 265,
   "metadata": {
    "id": "rzq-WEIJMIHO"
   },
   "outputs": [],
   "source": [
    "#разделим данные на train/test\n",
    "X_train, X_test, y_train, y_test = train_test_split(X[['topic_{}'.format(i) for i in range(N_topic)]], \n",
    "                                                    X['churn'], random_state=0, test_size=0.25)"
   ]
  },
  {
   "cell_type": "code",
   "execution_count": 266,
   "metadata": {
    "colab": {
     "base_uri": "https://localhost:8080/"
    },
    "id": "EBQsn00QMIHO",
    "outputId": "dc958171-432e-49de-96bb-2d1cf9cdee14"
   },
   "outputs": [
    {
     "data": {
      "text/plain": [
       "LogisticRegression()"
      ]
     },
     "execution_count": 266,
     "metadata": {},
     "output_type": "execute_result"
    }
   ],
   "source": [
    "logreg = LogisticRegression(C=1.0)\n",
    "#обучим наш пайплайн\n",
    "logreg.fit(X_train, y_train)"
   ]
  },
  {
   "cell_type": "code",
   "execution_count": 267,
   "metadata": {
    "colab": {
     "base_uri": "https://localhost:8080/"
    },
    "id": "GqftFfoOMIHP",
    "outputId": "9346d760-60a1-4237-95a5-eb0b5a1f1611"
   },
   "outputs": [
    {
     "data": {
      "text/plain": [
       "array([0.10077425, 0.04731765, 0.54676677, 0.42834566, 0.03728237,\n",
       "       0.04000905, 0.17454755, 0.00954489, 0.21360404, 0.13343793])"
      ]
     },
     "execution_count": 267,
     "metadata": {},
     "output_type": "execute_result"
    }
   ],
   "source": [
    "#наши прогнозы для тестовой выборки\n",
    "preds = logreg.predict_proba(X_test)[:, 1]\n",
    "preds[:10]"
   ]
  },
  {
   "cell_type": "code",
   "execution_count": 268,
   "metadata": {
    "id": "nQKM7kKtMIHU"
   },
   "outputs": [],
   "source": [
    "from sklearn.metrics import f1_score, roc_auc_score, precision_score, classification_report, precision_recall_curve, confusion_matrix"
   ]
  },
  {
   "cell_type": "markdown",
   "metadata": {
    "id": "_X_oDrlNMIHV"
   },
   "source": [
    "### Рассчитаем Precision, Recall, F_score"
   ]
  },
  {
   "cell_type": "code",
   "execution_count": 269,
   "metadata": {
    "colab": {
     "base_uri": "https://localhost:8080/",
     "height": 295
    },
    "id": "vFnKI0lCQ91K",
    "outputId": "32d4fa16-cc60-47ac-b689-624bb80a42d4"
   },
   "outputs": [
    {
     "data": {
      "image/png": "[encoded data removed]",
      "text/plain": [
       "<Figure size 432x288 with 1 Axes>"
      ]
     },
     "metadata": {
      "needs_background": "light"
     },
     "output_type": "display_data"
    }
   ],
   "source": [
    "plt.plot( preds[:100], label = 'predict')\n",
    "plt.plot(y_test.values[:100], label = 'true')\n",
    "plt.title('ответ модели')\n",
    "plt.xlabel(' № примера')\n",
    "plt.ylabel(' выход')\n",
    "plt.legend()\n",
    "plt.grid('On')\n",
    "plt.show()"
   ]
  },
  {
   "cell_type": "code",
   "execution_count": 270,
   "metadata": {
    "colab": {
     "base_uri": "https://localhost:8080/"
    },
    "id": "J04r8edvMIHV",
    "outputId": "9975f764-0535-4b8a-be00-b84f7e214cbb"
   },
   "outputs": [
    {
     "name": "stdout",
     "output_type": "stream",
     "text": [
      "Best Threshold=0.272032, F-Score=0.586, Precision=0.560, Recall=0.615\n"
     ]
    }
   ],
   "source": [
    "precision, recall, thresholds = precision_recall_curve(y_test.values[:1000], preds[:1000])\n",
    "\n",
    "fscore = (2 * precision * recall) / (precision + recall)\n",
    "\n",
    "# locate the index of the largest f score\n",
    "ix = np.argmax(fscore)\n",
    "print('Best Threshold=%f, F-Score=%.3f, Precision=%.3f, Recall=%.3f' % (thresholds[ix], \n",
    "                                                                        fscore[ix],\n",
    "                                                                        precision[ix],\n",
    "                                                                        recall[ix]))"
   ]
  },
  {
   "cell_type": "code",
   "execution_count": 271,
   "metadata": {
    "colab": {
     "base_uri": "https://localhost:8080/",
     "height": 309
    },
    "id": "OpIn4_MkQk-h",
    "outputId": "3f3103a9-8444-420d-bbf5-54496e321049"
   },
   "outputs": [
    {
     "data": {
      "image/png": "[encoded data removed]",
      "text/plain": [
       "<Figure size 432x288 with 1 Axes>"
      ]
     },
     "metadata": {
      "needs_background": "light"
     },
     "output_type": "display_data"
    }
   ],
   "source": [
    "plt.plot(recall,precision )\n",
    "plt.title(' точность/полнота')\n",
    "plt.xlabel(' полнота')\n",
    "plt.ylabel(' точность')\n",
    "plt.grid('On')\n",
    "plt.show()"
   ]
  },
  {
   "cell_type": "code",
   "execution_count": 272,
   "metadata": {
    "id": "fGe9uvYRYsQf"
   },
   "outputs": [],
   "source": [
    "import itertools"
   ]
  },
  {
   "cell_type": "code",
   "execution_count": 273,
   "metadata": {
    "id": "Q-yiXb5qMIHW"
   },
   "outputs": [],
   "source": [
    "def plot_confusion_matrix(cm, classes,\n",
    "                          normalize=False,\n",
    "                          title='Confusion matrix',\n",
    "                          cmap=plt.cm.Blues):\n",
    "    \"\"\"\n",
    "    This function prints and plots the confusion matrix.\n",
    "    Normalization can be applied by setting `normalize=True`.\n",
    "    \"\"\"\n",
    "    plt.imshow(cm, interpolation='nearest', cmap=cmap)\n",
    "    plt.title(title)\n",
    "    plt.colorbar()\n",
    "    tick_marks = np.arange(len(classes))\n",
    "    plt.xticks(tick_marks, classes, rotation=45)\n",
    "    plt.yticks(tick_marks, classes)\n",
    "\n",
    "    if normalize:\n",
    "        cm = cm.astype('float') / cm.sum(axis=1)[:, np.newaxis]\n",
    "        print(\"Normalized confusion matrix\")\n",
    "    else:\n",
    "        print('Confusion matrix, without normalization')\n",
    "\n",
    "    print(cm)\n",
    "\n",
    "    thresh = cm.max() \n",
    "    for i, j in itertools.product(range(cm.shape[0]), range(cm.shape[1])):\n",
    "        plt.text(j, i, cm[i, j],\n",
    "                 horizontalalignment=\"center\",\n",
    "                 color=\"white\" if cm[i, j] > thresh else \"black\")\n",
    "\n",
    "    plt.tight_layout()\n",
    "    plt.ylabel('True label')\n",
    "    plt.xlabel('Predicted label')"
   ]
  },
  {
   "cell_type": "code",
   "execution_count": 274,
   "metadata": {
    "colab": {
     "base_uri": "https://localhost:8080/",
     "height": 643
    },
    "id": "ALvrhVX3MIHW",
    "outputId": "191b8284-1a26-4445-9d3e-98150e0c67f6"
   },
   "outputs": [
    {
     "name": "stdout",
     "output_type": "stream",
     "text": [
      "Confusion matrix, without normalization\n",
      "[[1643  112]\n",
      " [ 100  145]]\n"
     ]
    },
    {
     "data": {
      "image/png": "[encoded data removed]",
      "text/plain": [
       "<Figure size 720x576 with 2 Axes>"
      ]
     },
     "metadata": {
      "needs_background": "light"
     },
     "output_type": "display_data"
    }
   ],
   "source": [
    "#мы уже нашли ранее \"оптимальный\" порог, когда максимизировали f_score\n",
    "font = {'size' : 15}\n",
    "\n",
    "plt.rc('font', **font)\n",
    "\n",
    "cnf_matrix = confusion_matrix(y_test, preds>thresholds[ix])\n",
    "plt.figure(figsize=(10, 8))\n",
    "plot_confusion_matrix(cnf_matrix, classes=['Non-Churn', 'churn'],\n",
    "                      title='Confusion matrix')\n",
    "plt.savefig(\"conf_matrix.png\")\n",
    "plt.show()"
   ]
  },
  {
   "cell_type": "code",
   "execution_count": 275,
   "metadata": {
    "colab": {
     "base_uri": "https://localhost:8080/"
    },
    "id": "vGLGf7iFMIHX",
    "outputId": "eaff375e-0207-4684-c675-58502fd7fd70"
   },
   "outputs": [
    {
     "data": {
      "text/plain": [
       "0.9166928309785453"
      ]
     },
     "execution_count": 275,
     "metadata": {},
     "output_type": "execute_result"
    }
   ],
   "source": [
    "roc_auc_score(y_test, preds)"
   ]
  },
  {
   "cell_type": "markdown",
   "metadata": {
    "id": "qPeKWD9VMIHY"
   },
   "source": [
    "В целом мы видим, что получившиеся векторные представления содержат какой-то сигнал и позволяют решать нашу прикладную задачу. "
   ]
  },
  {
   "cell_type": "markdown",
   "metadata": {
    "id": "fbxpSNMMMIHY"
   },
   "source": [
    "### Домашнее задание"
   ]
  },
  {
   "cell_type": "markdown",
   "metadata": {
    "id": "1cxL4c0tMIHZ"
   },
   "source": [
    "__1.__ Самостоятельно разобраться с тем, что такое tfidf (документация https://scikit-learn.org/stable/modules/generated/sklearn.feature_extraction.text.TfidfVectorizer.html и еще - https://scikit-learn.org/stable/modules/feature_extraction.html#text-feature-extraction)  \n",
    "\n",
    "__2.__ Модифицировать код функции get_user_embedding таким образом, чтобы считалось не среднее (как в примере np.mean), а медиана. Применить такое преобразование к данным, обучить модель прогнозирования оттока и посчитать метрики качества и сохранить их: roc auc, precision/recall/f_score (для 3 последних - подобрать оптимальный порог с помощью precision_recall_curve, как это делалось на уроке)"
   ]
  },
  {
   "cell_type": "code",
   "execution_count": 276,
   "metadata": {},
   "outputs": [],
   "source": [
    "def get_user_embedding_median(user_articles_list):\n",
    "    user_articles_list = eval(user_articles_list)\n",
    "    user_vector = np.array([doc_dict[doc_id] for doc_id in user_articles_list])\n",
    "    user_vector1 = np.median(user_vector, 0)  \n",
    "    return user_vector1"
   ]
  },
  {
   "cell_type": "code",
   "execution_count": 277,
   "metadata": {},
   "outputs": [
    {
     "data": {
      "text/html": [
       "<div>\n",
       "<style scoped>\n",
       "    .dataframe tbody tr th:only-of-type {\n",
       "        vertical-align: middle;\n",
       "    }\n",
       "\n",
       "    .dataframe tbody tr th {\n",
       "        vertical-align: top;\n",
       "    }\n",
       "\n",
       "    .dataframe thead th {\n",
       "        text-align: right;\n",
       "    }\n",
       "</style>\n",
       "<table border=\"1\" class=\"dataframe\">\n",
       "  <thead>\n",
       "    <tr style=\"text-align: right;\">\n",
       "      <th></th>\n",
       "      <th>uid</th>\n",
       "      <th>topic_0</th>\n",
       "      <th>topic_1</th>\n",
       "      <th>topic_2</th>\n",
       "      <th>topic_3</th>\n",
       "      <th>topic_4</th>\n",
       "      <th>topic_5</th>\n",
       "      <th>topic_6</th>\n",
       "      <th>topic_7</th>\n",
       "      <th>topic_8</th>\n",
       "      <th>...</th>\n",
       "      <th>topic_11</th>\n",
       "      <th>topic_12</th>\n",
       "      <th>topic_13</th>\n",
       "      <th>topic_14</th>\n",
       "      <th>topic_15</th>\n",
       "      <th>topic_16</th>\n",
       "      <th>topic_17</th>\n",
       "      <th>topic_18</th>\n",
       "      <th>topic_19</th>\n",
       "      <th>churn</th>\n",
       "    </tr>\n",
       "  </thead>\n",
       "  <tbody>\n",
       "    <tr>\n",
       "      <th>0</th>\n",
       "      <td>u105138</td>\n",
       "      <td>0.093617</td>\n",
       "      <td>0.0</td>\n",
       "      <td>0.0</td>\n",
       "      <td>0.063395</td>\n",
       "      <td>0.000000</td>\n",
       "      <td>0.020420</td>\n",
       "      <td>0.000000</td>\n",
       "      <td>0.028501</td>\n",
       "      <td>0.0</td>\n",
       "      <td>...</td>\n",
       "      <td>0.0</td>\n",
       "      <td>0.0</td>\n",
       "      <td>0.034233</td>\n",
       "      <td>0.044280</td>\n",
       "      <td>0.040847</td>\n",
       "      <td>0.0</td>\n",
       "      <td>0.000000</td>\n",
       "      <td>0.029166</td>\n",
       "      <td>0.0</td>\n",
       "      <td>0</td>\n",
       "    </tr>\n",
       "    <tr>\n",
       "      <th>1</th>\n",
       "      <td>u108690</td>\n",
       "      <td>0.179356</td>\n",
       "      <td>0.0</td>\n",
       "      <td>0.0</td>\n",
       "      <td>0.111042</td>\n",
       "      <td>0.022073</td>\n",
       "      <td>0.007135</td>\n",
       "      <td>0.107505</td>\n",
       "      <td>0.041293</td>\n",
       "      <td>0.0</td>\n",
       "      <td>...</td>\n",
       "      <td>0.0</td>\n",
       "      <td>0.0</td>\n",
       "      <td>0.027936</td>\n",
       "      <td>0.082723</td>\n",
       "      <td>0.044332</td>\n",
       "      <td>0.0</td>\n",
       "      <td>0.000000</td>\n",
       "      <td>0.000000</td>\n",
       "      <td>0.0</td>\n",
       "      <td>1</td>\n",
       "    </tr>\n",
       "    <tr>\n",
       "      <th>2</th>\n",
       "      <td>u108339</td>\n",
       "      <td>0.244159</td>\n",
       "      <td>0.0</td>\n",
       "      <td>0.0</td>\n",
       "      <td>0.099322</td>\n",
       "      <td>0.010721</td>\n",
       "      <td>0.000000</td>\n",
       "      <td>0.019705</td>\n",
       "      <td>0.028529</td>\n",
       "      <td>0.0</td>\n",
       "      <td>...</td>\n",
       "      <td>0.0</td>\n",
       "      <td>0.0</td>\n",
       "      <td>0.035925</td>\n",
       "      <td>0.329487</td>\n",
       "      <td>0.067760</td>\n",
       "      <td>0.0</td>\n",
       "      <td>0.006104</td>\n",
       "      <td>0.007563</td>\n",
       "      <td>0.0</td>\n",
       "      <td>1</td>\n",
       "    </tr>\n",
       "  </tbody>\n",
       "</table>\n",
       "<p>3 rows × 22 columns</p>\n",
       "</div>"
      ],
      "text/plain": [
       "       uid   topic_0  topic_1  topic_2   topic_3   topic_4   topic_5  \\\n",
       "0  u105138  0.093617      0.0      0.0  0.063395  0.000000  0.020420   \n",
       "1  u108690  0.179356      0.0      0.0  0.111042  0.022073  0.007135   \n",
       "2  u108339  0.244159      0.0      0.0  0.099322  0.010721  0.000000   \n",
       "\n",
       "    topic_6   topic_7  topic_8  ...  topic_11  topic_12  topic_13  topic_14  \\\n",
       "0  0.000000  0.028501      0.0  ...       0.0       0.0  0.034233  0.044280   \n",
       "1  0.107505  0.041293      0.0  ...       0.0       0.0  0.027936  0.082723   \n",
       "2  0.019705  0.028529      0.0  ...       0.0       0.0  0.035925  0.329487   \n",
       "\n",
       "   topic_15  topic_16  topic_17  topic_18  topic_19  churn  \n",
       "0  0.040847       0.0  0.000000  0.029166       0.0      0  \n",
       "1  0.044332       0.0  0.000000  0.000000       0.0      1  \n",
       "2  0.067760       0.0  0.006104  0.007563       0.0      1  \n",
       "\n",
       "[3 rows x 22 columns]"
      ]
     },
     "execution_count": 277,
     "metadata": {},
     "output_type": "execute_result"
    }
   ],
   "source": [
    "user_embeddings = pd.DataFrame([i for i in users['articles'].apply(lambda x: get_user_embedding_median(x), 1)])\n",
    "user_embeddings.columns = ['topic_{}'.format(i) for i in range(N_topic)]\n",
    "user_embeddings['uid'] = users['uid'].values\n",
    "user_embeddings = user_embeddings[['uid']+['topic_{}'.format(i) for i in range(N_topic)]]\n",
    "\n",
    "X = pd.merge(user_embeddings, target, 'left')\n",
    "X.head(3)"
   ]
  },
  {
   "cell_type": "code",
   "execution_count": 278,
   "metadata": {},
   "outputs": [],
   "source": [
    "X_train, X_test, y_train, y_test = train_test_split(X[['topic_{}'.format(i) for i in range(N_topic)]], \n",
    "                                                    X['churn'], random_state=5, test_size=0.25)\n",
    "\n",
    "logreg = LogisticRegression(C=1.0)\n",
    "logreg.fit(X_train, y_train)\n",
    "preds = logreg.predict_proba(X_test)[:, 1]"
   ]
  },
  {
   "cell_type": "code",
   "execution_count": 279,
   "metadata": {},
   "outputs": [
    {
     "name": "stdout",
     "output_type": "stream",
     "text": [
      "Best Threshold=0.247614, F-Score=0.664, Precision=0.605, Recall=0.736\n"
     ]
    }
   ],
   "source": [
    "precision, recall, thresholds = precision_recall_curve(y_test.values[:1000], preds[:1000])\n",
    "\n",
    "fscore = (2 * precision * recall) / (precision + recall)\n",
    "\n",
    "# locate the index of the largest f score\n",
    "ix = np.argmax(fscore)\n",
    "print('Best Threshold=%f, F-Score=%.3f, Precision=%.3f, Recall=%.3f' % (thresholds[ix], \n",
    "                                                                        fscore[ix],\n",
    "                                                                        precision[ix],\n",
    "                                                                        recall[ix]))"
   ]
  },
  {
   "cell_type": "code",
   "execution_count": 280,
   "metadata": {},
   "outputs": [
    {
     "data": {
      "image/png": "[encoded data removed]",
      "text/plain": [
       "<Figure size 432x288 with 1 Axes>"
      ]
     },
     "metadata": {
      "needs_background": "light"
     },
     "output_type": "display_data"
    }
   ],
   "source": [
    "plt.plot(recall,precision )\n",
    "plt.title(' точность/полнота')\n",
    "plt.xlabel(' полнота')\n",
    "plt.ylabel(' точность')\n",
    "plt.grid('On')\n",
    "plt.show()"
   ]
  },
  {
   "cell_type": "code",
   "execution_count": 281,
   "metadata": {},
   "outputs": [
    {
     "name": "stdout",
     "output_type": "stream",
     "text": [
      "Confusion matrix, without normalization\n",
      "[[1632  126]\n",
      " [  60  182]]\n"
     ]
    },
    {
     "data": {
      "image/png": "[encoded data removed]",
      "text/plain": [
       "<Figure size 720x576 with 2 Axes>"
      ]
     },
     "metadata": {
      "needs_background": "light"
     },
     "output_type": "display_data"
    }
   ],
   "source": [
    "font = {'size' : 15}\n",
    "\n",
    "plt.rc('font', **font)\n",
    "\n",
    "cnf_matrix = confusion_matrix(y_test, preds>thresholds[ix])\n",
    "plt.figure(figsize=(10, 8))\n",
    "plot_confusion_matrix(cnf_matrix, classes=['Non-Churn', 'churn'],\n",
    "                      title='Confusion matrix')\n",
    "plt.savefig(\"conf_matrix.png\")\n",
    "plt.show()"
   ]
  },
  {
   "cell_type": "code",
   "execution_count": 282,
   "metadata": {},
   "outputs": [
    {
     "data": {
      "text/plain": [
       "0.9476819075019509"
      ]
     },
     "execution_count": 282,
     "metadata": {},
     "output_type": "execute_result"
    }
   ],
   "source": [
    "roc_auc_score(y_test, preds)"
   ]
  },
  {
   "cell_type": "markdown",
   "metadata": {},
   "source": [
    "__3.__ Повторить п.2, но используя уже не медиану, а max"
   ]
  },
  {
   "cell_type": "code",
   "execution_count": 283,
   "metadata": {},
   "outputs": [],
   "source": [
    "def get_user_embedding_max(user_articles_list):\n",
    "    user_articles_list = eval(user_articles_list)\n",
    "    user_vector = np.array([doc_dict[doc_id] for doc_id in user_articles_list])\n",
    "    user_vector1 = np.max(user_vector, 0)  \n",
    "    return user_vector1"
   ]
  },
  {
   "cell_type": "code",
   "execution_count": 284,
   "metadata": {},
   "outputs": [
    {
     "data": {
      "text/html": [
       "<div>\n",
       "<style scoped>\n",
       "    .dataframe tbody tr th:only-of-type {\n",
       "        vertical-align: middle;\n",
       "    }\n",
       "\n",
       "    .dataframe tbody tr th {\n",
       "        vertical-align: top;\n",
       "    }\n",
       "\n",
       "    .dataframe thead th {\n",
       "        text-align: right;\n",
       "    }\n",
       "</style>\n",
       "<table border=\"1\" class=\"dataframe\">\n",
       "  <thead>\n",
       "    <tr style=\"text-align: right;\">\n",
       "      <th></th>\n",
       "      <th>uid</th>\n",
       "      <th>topic_0</th>\n",
       "      <th>topic_1</th>\n",
       "      <th>topic_2</th>\n",
       "      <th>topic_3</th>\n",
       "      <th>topic_4</th>\n",
       "      <th>topic_5</th>\n",
       "      <th>topic_6</th>\n",
       "      <th>topic_7</th>\n",
       "      <th>topic_8</th>\n",
       "      <th>...</th>\n",
       "      <th>topic_11</th>\n",
       "      <th>topic_12</th>\n",
       "      <th>topic_13</th>\n",
       "      <th>topic_14</th>\n",
       "      <th>topic_15</th>\n",
       "      <th>topic_16</th>\n",
       "      <th>topic_17</th>\n",
       "      <th>topic_18</th>\n",
       "      <th>topic_19</th>\n",
       "      <th>churn</th>\n",
       "    </tr>\n",
       "  </thead>\n",
       "  <tbody>\n",
       "    <tr>\n",
       "      <th>0</th>\n",
       "      <td>u105138</td>\n",
       "      <td>0.368888</td>\n",
       "      <td>0.0</td>\n",
       "      <td>0.000000</td>\n",
       "      <td>0.778653</td>\n",
       "      <td>0.182160</td>\n",
       "      <td>0.052510</td>\n",
       "      <td>0.230630</td>\n",
       "      <td>0.400109</td>\n",
       "      <td>0.0</td>\n",
       "      <td>...</td>\n",
       "      <td>0.141905</td>\n",
       "      <td>0.028606</td>\n",
       "      <td>0.150815</td>\n",
       "      <td>0.262684</td>\n",
       "      <td>0.235484</td>\n",
       "      <td>0.000000</td>\n",
       "      <td>0.100349</td>\n",
       "      <td>0.332104</td>\n",
       "      <td>0.012018</td>\n",
       "      <td>0</td>\n",
       "    </tr>\n",
       "    <tr>\n",
       "      <th>1</th>\n",
       "      <td>u108690</td>\n",
       "      <td>0.344167</td>\n",
       "      <td>0.0</td>\n",
       "      <td>0.000000</td>\n",
       "      <td>0.307285</td>\n",
       "      <td>0.115609</td>\n",
       "      <td>0.031864</td>\n",
       "      <td>0.216392</td>\n",
       "      <td>0.170576</td>\n",
       "      <td>0.0</td>\n",
       "      <td>...</td>\n",
       "      <td>0.038663</td>\n",
       "      <td>0.016269</td>\n",
       "      <td>0.254978</td>\n",
       "      <td>0.391579</td>\n",
       "      <td>0.182691</td>\n",
       "      <td>0.079927</td>\n",
       "      <td>0.015535</td>\n",
       "      <td>0.000000</td>\n",
       "      <td>0.035850</td>\n",
       "      <td>1</td>\n",
       "    </tr>\n",
       "    <tr>\n",
       "      <th>2</th>\n",
       "      <td>u108339</td>\n",
       "      <td>0.294718</td>\n",
       "      <td>0.0</td>\n",
       "      <td>0.013766</td>\n",
       "      <td>0.158944</td>\n",
       "      <td>0.048515</td>\n",
       "      <td>0.049319</td>\n",
       "      <td>0.049990</td>\n",
       "      <td>0.063955</td>\n",
       "      <td>0.0</td>\n",
       "      <td>...</td>\n",
       "      <td>0.020051</td>\n",
       "      <td>0.030094</td>\n",
       "      <td>0.168470</td>\n",
       "      <td>0.440910</td>\n",
       "      <td>0.085858</td>\n",
       "      <td>0.015662</td>\n",
       "      <td>0.131793</td>\n",
       "      <td>0.105324</td>\n",
       "      <td>0.023288</td>\n",
       "      <td>1</td>\n",
       "    </tr>\n",
       "  </tbody>\n",
       "</table>\n",
       "<p>3 rows × 22 columns</p>\n",
       "</div>"
      ],
      "text/plain": [
       "       uid   topic_0  topic_1   topic_2   topic_3   topic_4   topic_5  \\\n",
       "0  u105138  0.368888      0.0  0.000000  0.778653  0.182160  0.052510   \n",
       "1  u108690  0.344167      0.0  0.000000  0.307285  0.115609  0.031864   \n",
       "2  u108339  0.294718      0.0  0.013766  0.158944  0.048515  0.049319   \n",
       "\n",
       "    topic_6   topic_7  topic_8  ...  topic_11  topic_12  topic_13  topic_14  \\\n",
       "0  0.230630  0.400109      0.0  ...  0.141905  0.028606  0.150815  0.262684   \n",
       "1  0.216392  0.170576      0.0  ...  0.038663  0.016269  0.254978  0.391579   \n",
       "2  0.049990  0.063955      0.0  ...  0.020051  0.030094  0.168470  0.440910   \n",
       "\n",
       "   topic_15  topic_16  topic_17  topic_18  topic_19  churn  \n",
       "0  0.235484  0.000000  0.100349  0.332104  0.012018      0  \n",
       "1  0.182691  0.079927  0.015535  0.000000  0.035850      1  \n",
       "2  0.085858  0.015662  0.131793  0.105324  0.023288      1  \n",
       "\n",
       "[3 rows x 22 columns]"
      ]
     },
     "execution_count": 284,
     "metadata": {},
     "output_type": "execute_result"
    }
   ],
   "source": [
    "user_embeddings = pd.DataFrame([i for i in users['articles'].apply(lambda x: get_user_embedding_max(x), 1)])\n",
    "user_embeddings.columns = ['topic_{}'.format(i) for i in range(N_topic)]\n",
    "user_embeddings['uid'] = users['uid'].values\n",
    "user_embeddings = user_embeddings[['uid']+['topic_{}'.format(i) for i in range(N_topic)]]\n",
    "\n",
    "X = pd.merge(user_embeddings, target, 'left')\n",
    "X.head(3)"
   ]
  },
  {
   "cell_type": "code",
   "execution_count": 285,
   "metadata": {},
   "outputs": [],
   "source": [
    "X_train, X_test, y_train, y_test = train_test_split(X[['topic_{}'.format(i) for i in range(N_topic)]], \n",
    "                                                    X['churn'], random_state=5, test_size=0.25)\n",
    "\n",
    "logreg = LogisticRegression(C=1.0)\n",
    "logreg.fit(X_train, y_train)\n",
    "preds = logreg.predict_proba(X_test)[:, 1]"
   ]
  },
  {
   "cell_type": "code",
   "execution_count": 286,
   "metadata": {},
   "outputs": [
    {
     "name": "stdout",
     "output_type": "stream",
     "text": [
      "Best Threshold=0.346059, F-Score=0.744, Precision=0.769, Recall=0.720\n"
     ]
    }
   ],
   "source": [
    "precision, recall, thresholds = precision_recall_curve(y_test.values[:1000], preds[:1000])\n",
    "\n",
    "fscore = (2 * precision * recall) / (precision + recall)\n",
    "\n",
    "ix = np.argmax(fscore)\n",
    "print('Best Threshold=%f, F-Score=%.3f, Precision=%.3f, Recall=%.3f' % (thresholds[ix], \n",
    "                                                                        fscore[ix],\n",
    "                                                                        precision[ix],\n",
    "                                                                        recall[ix]))"
   ]
  },
  {
   "cell_type": "code",
   "execution_count": 287,
   "metadata": {},
   "outputs": [
    {
     "name": "stdout",
     "output_type": "stream",
     "text": [
      "Confusion matrix, without normalization\n",
      "[[1702   56]\n",
      " [  68  174]]\n"
     ]
    },
    {
     "data": {
      "image/png": "[encoded data removed]",
      "text/plain": [
       "<Figure size 720x576 with 2 Axes>"
      ]
     },
     "metadata": {
      "needs_background": "light"
     },
     "output_type": "display_data"
    }
   ],
   "source": [
    "font = {'size' : 15}\n",
    "\n",
    "plt.rc('font', **font)\n",
    "\n",
    "cnf_matrix = confusion_matrix(y_test, preds>thresholds[ix])\n",
    "plt.figure(figsize=(10, 8))\n",
    "plot_confusion_matrix(cnf_matrix, classes=['Non-Churn', 'churn'],\n",
    "                      title='Confusion matrix')\n",
    "plt.savefig(\"conf_matrix.png\")\n",
    "plt.show()"
   ]
  },
  {
   "cell_type": "code",
   "execution_count": 288,
   "metadata": {},
   "outputs": [
    {
     "data": {
      "text/plain": [
       "0.9625701633148112"
      ]
     },
     "execution_count": 288,
     "metadata": {},
     "output_type": "execute_result"
    }
   ],
   "source": [
    "roc_auc_score(y_test, preds)"
   ]
  },
  {
   "cell_type": "markdown",
   "metadata": {},
   "source": [
    "__4.__ (опциональное, если очень хочется) Воспользовавшись полученными знаниями из п.1, повторить пункт 2, но уже взвешивая новости по tfidf (подсказка: нужно получить веса-коэффициенты для каждого документа. Не все документы одинаково информативны и несут какой-то положительный сигнал). Подсказка 2 - нужен именно idf, как вес.  \n",
    "\n",
    "__5.__ Сформировать на выходе единую таблицу, сравнивающую качество 3 разных метода получения эмбедингов пользователей: mean, median, max, idf_mean по метрикам roc_auc, precision, recall, f_score  \n",
    "\n",
    "**N_topic = 10**  \n",
    "model_1 (np.mean): F-Score=0.613, Precision=0.670, Recall=0.566, ROC AUC score: 0.907  \n",
    "model_2 (np.median): F-Score=0.605, Precision=0.568, Recall=0.648, ROC AUC score: 0.893  \n",
    "model_3 (np.max): F-Score=0.647, Precision=0.592, Recall=0.713, ROC AUC score: 0.922  \n",
    "\n",
    "**N_topic = 15**\n",
    "model_1 (np.mean): F-Score=0.523, Precision=0.405, Recall=0.738, ROC AUC score: 0.882 \n",
    "model_2 (np.median): F-Score=0.603, Precision=0.624, Recall=0.584, ROC AUC score: 0.910\n",
    "model_3 (np.max): F-Score=0.721, Precision=0.778, Recall=0.672, ROC AUC score: 0.947\n",
    "\n",
    "**N_topic = 20**\n",
    "model_1 (np.mean): F-Score=0.586, Precision=0.560, Recall=0.615, ROC AUC score: 0.948 \n",
    "model_2 (np.median): F-Score=0.664, Precision=0.605, Recall=0.736, ROC AUC score: 0.910\n",
    "model_3 (np.max): F-Score=0.744, Precision=0.769, Recall=0.720, ROC AUC score: 0.963\n",
    "\n",
    "__6.__ Сделать самостоятельные выводы и предположения о том, почему тот или ной способ оказался эффективнее остальных.\n",
    "\n",
    "Самые лучшие значения метрик оказались при разбиении на 20 тем и при взятии максимального значения вероятности темы. Если мы будем брать среднее значение - мы можем сильно снизить вероятность чтения темы, но может оказаться, что пользователь читает эту тему. С медианой ситуация обстоит хуже так, как среди нескольких статей только одна может соответствовать теманике, а мы возьмем серединку, то есть искусственно снизим вероятность, при чем, скорее всего, еще сильнее, чем при взятии среднего значения, по-этому лучшим способом создания вектора пользователя взять максимально возможную вероятность прочтения тем "
   ]
  }
 ],
 "metadata": {
  "colab": {
   "collapsed_sections": [
    "fbxpSNMMMIHY",
    "knu4EuwkMIHZ",
    "QfwYYD1qMIHa"
   ],
   "name": "mkorlyakova_les2.ipynb",
   "provenance": []
  },
  "kernelspec": {
   "display_name": "Python 3",
   "language": "python",
   "name": "python3"
  },
  "language_info": {
   "codemirror_mode": {
    "name": "ipython",
    "version": 3
   },
   "file_extension": ".py",
   "mimetype": "text/x-python",
   "name": "python",
   "nbconvert_exporter": "python",
   "pygments_lexer": "ipython3",
   "version": "3.8.6"
  }
 },
 "nbformat": 4,
 "nbformat_minor": 4
}
